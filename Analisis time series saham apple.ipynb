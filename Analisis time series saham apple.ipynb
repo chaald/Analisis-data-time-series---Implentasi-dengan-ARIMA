{
  "cells": [
    {
      "cell_type": "markdown",
      "metadata": {
        "id": "oHHyT68dwxLb"
      },
      "source": [
        "# **Import Library**"
      ]
    },
    {
      "cell_type": "code",
      "execution_count": null,
      "metadata": {
        "id": "hrZPQ7-JZFcG"
      },
      "outputs": [],
      "source": [
        "import pandas as pd\n",
        "import numpy as np\n",
        "import seaborn as sns\n",
        "import matplotlib.pyplot as plt\n",
        "import plotly.express as px"
      ]
    },
    {
      "cell_type": "markdown",
      "metadata": {
        "id": "T-EdmnTHd1pq"
      },
      "source": [
        "# **Data Description**"
      ]
    },
    {
      "cell_type": "code",
      "execution_count": null,
      "metadata": {
        "id": "7TK6VhG0ZQxa"
      },
      "outputs": [],
      "source": [
        "df = pd.read_csv(\"/content/AAPL.csv\")"
      ]
    },
    {
      "cell_type": "code",
      "source": [
        "# Mengubah kolom 'Date' menjadi datetime\n",
        "df['Date'] = pd.to_datetime(df['Date'])\n",
        "\n",
        "# Menyaring data untuk tahun 1980\n",
        "df = df[df['Date'].dt.year == 1985]\n",
        "\n",
        "df.set_index('Date', inplace=True)\n"
      ],
      "metadata": {
        "id": "tChnB9JliY9c"
      },
      "execution_count": null,
      "outputs": []
    },
    {
      "cell_type": "code",
      "execution_count": null,
      "metadata": {
        "colab": {
          "base_uri": "https://localhost:8080/",
          "height": 235
        },
        "id": "tioplS7Hc7F8",
        "outputId": "1cba826b-b70f-41eb-d1c9-70cf8ecbcd14"
      },
      "outputs": [
        {
          "output_type": "execute_result",
          "data": {
            "text/plain": [
              "                Open      High       Low     Close  Adj Close     Volume\n",
              "Date                                                                    \n",
              "1985-01-02  0.130022  0.130022  0.124442  0.124442   0.097130  175302400\n",
              "1985-01-03  0.126674  0.130022  0.126674  0.126674   0.098872  166611200\n",
              "1985-01-04  0.126674  0.127232  0.125000  0.126674   0.098872  137267200\n",
              "1985-01-07  0.126674  0.127232  0.126116  0.126116   0.098436  170912000\n",
              "1985-01-08  0.126116  0.127232  0.125000  0.125000   0.097565  141120000"
            ],
            "text/html": [
              "\n",
              "  <div id=\"df-01b4ef43-d344-4f71-b1a5-d79ef2e3ba48\" class=\"colab-df-container\">\n",
              "    <div>\n",
              "<style scoped>\n",
              "    .dataframe tbody tr th:only-of-type {\n",
              "        vertical-align: middle;\n",
              "    }\n",
              "\n",
              "    .dataframe tbody tr th {\n",
              "        vertical-align: top;\n",
              "    }\n",
              "\n",
              "    .dataframe thead th {\n",
              "        text-align: right;\n",
              "    }\n",
              "</style>\n",
              "<table border=\"1\" class=\"dataframe\">\n",
              "  <thead>\n",
              "    <tr style=\"text-align: right;\">\n",
              "      <th></th>\n",
              "      <th>Open</th>\n",
              "      <th>High</th>\n",
              "      <th>Low</th>\n",
              "      <th>Close</th>\n",
              "      <th>Adj Close</th>\n",
              "      <th>Volume</th>\n",
              "    </tr>\n",
              "    <tr>\n",
              "      <th>Date</th>\n",
              "      <th></th>\n",
              "      <th></th>\n",
              "      <th></th>\n",
              "      <th></th>\n",
              "      <th></th>\n",
              "      <th></th>\n",
              "    </tr>\n",
              "  </thead>\n",
              "  <tbody>\n",
              "    <tr>\n",
              "      <th>1985-01-02</th>\n",
              "      <td>0.130022</td>\n",
              "      <td>0.130022</td>\n",
              "      <td>0.124442</td>\n",
              "      <td>0.124442</td>\n",
              "      <td>0.097130</td>\n",
              "      <td>175302400</td>\n",
              "    </tr>\n",
              "    <tr>\n",
              "      <th>1985-01-03</th>\n",
              "      <td>0.126674</td>\n",
              "      <td>0.130022</td>\n",
              "      <td>0.126674</td>\n",
              "      <td>0.126674</td>\n",
              "      <td>0.098872</td>\n",
              "      <td>166611200</td>\n",
              "    </tr>\n",
              "    <tr>\n",
              "      <th>1985-01-04</th>\n",
              "      <td>0.126674</td>\n",
              "      <td>0.127232</td>\n",
              "      <td>0.125000</td>\n",
              "      <td>0.126674</td>\n",
              "      <td>0.098872</td>\n",
              "      <td>137267200</td>\n",
              "    </tr>\n",
              "    <tr>\n",
              "      <th>1985-01-07</th>\n",
              "      <td>0.126674</td>\n",
              "      <td>0.127232</td>\n",
              "      <td>0.126116</td>\n",
              "      <td>0.126116</td>\n",
              "      <td>0.098436</td>\n",
              "      <td>170912000</td>\n",
              "    </tr>\n",
              "    <tr>\n",
              "      <th>1985-01-08</th>\n",
              "      <td>0.126116</td>\n",
              "      <td>0.127232</td>\n",
              "      <td>0.125000</td>\n",
              "      <td>0.125000</td>\n",
              "      <td>0.097565</td>\n",
              "      <td>141120000</td>\n",
              "    </tr>\n",
              "  </tbody>\n",
              "</table>\n",
              "</div>\n",
              "    <div class=\"colab-df-buttons\">\n",
              "\n",
              "  <div class=\"colab-df-container\">\n",
              "    <button class=\"colab-df-convert\" onclick=\"convertToInteractive('df-01b4ef43-d344-4f71-b1a5-d79ef2e3ba48')\"\n",
              "            title=\"Convert this dataframe to an interactive table.\"\n",
              "            style=\"display:none;\">\n",
              "\n",
              "  <svg xmlns=\"http://www.w3.org/2000/svg\" height=\"24px\" viewBox=\"0 -960 960 960\">\n",
              "    <path d=\"M120-120v-720h720v720H120Zm60-500h600v-160H180v160Zm220 220h160v-160H400v160Zm0 220h160v-160H400v160ZM180-400h160v-160H180v160Zm440 0h160v-160H620v160ZM180-180h160v-160H180v160Zm440 0h160v-160H620v160Z\"/>\n",
              "  </svg>\n",
              "    </button>\n",
              "\n",
              "  <style>\n",
              "    .colab-df-container {\n",
              "      display:flex;\n",
              "      gap: 12px;\n",
              "    }\n",
              "\n",
              "    .colab-df-convert {\n",
              "      background-color: #E8F0FE;\n",
              "      border: none;\n",
              "      border-radius: 50%;\n",
              "      cursor: pointer;\n",
              "      display: none;\n",
              "      fill: #1967D2;\n",
              "      height: 32px;\n",
              "      padding: 0 0 0 0;\n",
              "      width: 32px;\n",
              "    }\n",
              "\n",
              "    .colab-df-convert:hover {\n",
              "      background-color: #E2EBFA;\n",
              "      box-shadow: 0px 1px 2px rgba(60, 64, 67, 0.3), 0px 1px 3px 1px rgba(60, 64, 67, 0.15);\n",
              "      fill: #174EA6;\n",
              "    }\n",
              "\n",
              "    .colab-df-buttons div {\n",
              "      margin-bottom: 4px;\n",
              "    }\n",
              "\n",
              "    [theme=dark] .colab-df-convert {\n",
              "      background-color: #3B4455;\n",
              "      fill: #D2E3FC;\n",
              "    }\n",
              "\n",
              "    [theme=dark] .colab-df-convert:hover {\n",
              "      background-color: #434B5C;\n",
              "      box-shadow: 0px 1px 3px 1px rgba(0, 0, 0, 0.15);\n",
              "      filter: drop-shadow(0px 1px 2px rgba(0, 0, 0, 0.3));\n",
              "      fill: #FFFFFF;\n",
              "    }\n",
              "  </style>\n",
              "\n",
              "    <script>\n",
              "      const buttonEl =\n",
              "        document.querySelector('#df-01b4ef43-d344-4f71-b1a5-d79ef2e3ba48 button.colab-df-convert');\n",
              "      buttonEl.style.display =\n",
              "        google.colab.kernel.accessAllowed ? 'block' : 'none';\n",
              "\n",
              "      async function convertToInteractive(key) {\n",
              "        const element = document.querySelector('#df-01b4ef43-d344-4f71-b1a5-d79ef2e3ba48');\n",
              "        const dataTable =\n",
              "          await google.colab.kernel.invokeFunction('convertToInteractive',\n",
              "                                                    [key], {});\n",
              "        if (!dataTable) return;\n",
              "\n",
              "        const docLinkHtml = 'Like what you see? Visit the ' +\n",
              "          '<a target=\"_blank\" href=https://colab.research.google.com/notebooks/data_table.ipynb>data table notebook</a>'\n",
              "          + ' to learn more about interactive tables.';\n",
              "        element.innerHTML = '';\n",
              "        dataTable['output_type'] = 'display_data';\n",
              "        await google.colab.output.renderOutput(dataTable, element);\n",
              "        const docLink = document.createElement('div');\n",
              "        docLink.innerHTML = docLinkHtml;\n",
              "        element.appendChild(docLink);\n",
              "      }\n",
              "    </script>\n",
              "  </div>\n",
              "\n",
              "\n",
              "<div id=\"df-4f6c05c5-bad3-4910-a9e8-b4782a886076\">\n",
              "  <button class=\"colab-df-quickchart\" onclick=\"quickchart('df-4f6c05c5-bad3-4910-a9e8-b4782a886076')\"\n",
              "            title=\"Suggest charts\"\n",
              "            style=\"display:none;\">\n",
              "\n",
              "<svg xmlns=\"http://www.w3.org/2000/svg\" height=\"24px\"viewBox=\"0 0 24 24\"\n",
              "     width=\"24px\">\n",
              "    <g>\n",
              "        <path d=\"M19 3H5c-1.1 0-2 .9-2 2v14c0 1.1.9 2 2 2h14c1.1 0 2-.9 2-2V5c0-1.1-.9-2-2-2zM9 17H7v-7h2v7zm4 0h-2V7h2v10zm4 0h-2v-4h2v4z\"/>\n",
              "    </g>\n",
              "</svg>\n",
              "  </button>\n",
              "\n",
              "<style>\n",
              "  .colab-df-quickchart {\n",
              "      --bg-color: #E8F0FE;\n",
              "      --fill-color: #1967D2;\n",
              "      --hover-bg-color: #E2EBFA;\n",
              "      --hover-fill-color: #174EA6;\n",
              "      --disabled-fill-color: #AAA;\n",
              "      --disabled-bg-color: #DDD;\n",
              "  }\n",
              "\n",
              "  [theme=dark] .colab-df-quickchart {\n",
              "      --bg-color: #3B4455;\n",
              "      --fill-color: #D2E3FC;\n",
              "      --hover-bg-color: #434B5C;\n",
              "      --hover-fill-color: #FFFFFF;\n",
              "      --disabled-bg-color: #3B4455;\n",
              "      --disabled-fill-color: #666;\n",
              "  }\n",
              "\n",
              "  .colab-df-quickchart {\n",
              "    background-color: var(--bg-color);\n",
              "    border: none;\n",
              "    border-radius: 50%;\n",
              "    cursor: pointer;\n",
              "    display: none;\n",
              "    fill: var(--fill-color);\n",
              "    height: 32px;\n",
              "    padding: 0;\n",
              "    width: 32px;\n",
              "  }\n",
              "\n",
              "  .colab-df-quickchart:hover {\n",
              "    background-color: var(--hover-bg-color);\n",
              "    box-shadow: 0 1px 2px rgba(60, 64, 67, 0.3), 0 1px 3px 1px rgba(60, 64, 67, 0.15);\n",
              "    fill: var(--button-hover-fill-color);\n",
              "  }\n",
              "\n",
              "  .colab-df-quickchart-complete:disabled,\n",
              "  .colab-df-quickchart-complete:disabled:hover {\n",
              "    background-color: var(--disabled-bg-color);\n",
              "    fill: var(--disabled-fill-color);\n",
              "    box-shadow: none;\n",
              "  }\n",
              "\n",
              "  .colab-df-spinner {\n",
              "    border: 2px solid var(--fill-color);\n",
              "    border-color: transparent;\n",
              "    border-bottom-color: var(--fill-color);\n",
              "    animation:\n",
              "      spin 1s steps(1) infinite;\n",
              "  }\n",
              "\n",
              "  @keyframes spin {\n",
              "    0% {\n",
              "      border-color: transparent;\n",
              "      border-bottom-color: var(--fill-color);\n",
              "      border-left-color: var(--fill-color);\n",
              "    }\n",
              "    20% {\n",
              "      border-color: transparent;\n",
              "      border-left-color: var(--fill-color);\n",
              "      border-top-color: var(--fill-color);\n",
              "    }\n",
              "    30% {\n",
              "      border-color: transparent;\n",
              "      border-left-color: var(--fill-color);\n",
              "      border-top-color: var(--fill-color);\n",
              "      border-right-color: var(--fill-color);\n",
              "    }\n",
              "    40% {\n",
              "      border-color: transparent;\n",
              "      border-right-color: var(--fill-color);\n",
              "      border-top-color: var(--fill-color);\n",
              "    }\n",
              "    60% {\n",
              "      border-color: transparent;\n",
              "      border-right-color: var(--fill-color);\n",
              "    }\n",
              "    80% {\n",
              "      border-color: transparent;\n",
              "      border-right-color: var(--fill-color);\n",
              "      border-bottom-color: var(--fill-color);\n",
              "    }\n",
              "    90% {\n",
              "      border-color: transparent;\n",
              "      border-bottom-color: var(--fill-color);\n",
              "    }\n",
              "  }\n",
              "</style>\n",
              "\n",
              "  <script>\n",
              "    async function quickchart(key) {\n",
              "      const quickchartButtonEl =\n",
              "        document.querySelector('#' + key + ' button');\n",
              "      quickchartButtonEl.disabled = true;  // To prevent multiple clicks.\n",
              "      quickchartButtonEl.classList.add('colab-df-spinner');\n",
              "      try {\n",
              "        const charts = await google.colab.kernel.invokeFunction(\n",
              "            'suggestCharts', [key], {});\n",
              "      } catch (error) {\n",
              "        console.error('Error during call to suggestCharts:', error);\n",
              "      }\n",
              "      quickchartButtonEl.classList.remove('colab-df-spinner');\n",
              "      quickchartButtonEl.classList.add('colab-df-quickchart-complete');\n",
              "    }\n",
              "    (() => {\n",
              "      let quickchartButtonEl =\n",
              "        document.querySelector('#df-4f6c05c5-bad3-4910-a9e8-b4782a886076 button');\n",
              "      quickchartButtonEl.style.display =\n",
              "        google.colab.kernel.accessAllowed ? 'block' : 'none';\n",
              "    })();\n",
              "  </script>\n",
              "</div>\n",
              "\n",
              "    </div>\n",
              "  </div>\n"
            ],
            "application/vnd.google.colaboratory.intrinsic+json": {
              "type": "dataframe",
              "variable_name": "df",
              "summary": "{\n  \"name\": \"df\",\n  \"rows\": 252,\n  \"fields\": [\n    {\n      \"column\": \"Date\",\n      \"properties\": {\n        \"dtype\": \"date\",\n        \"min\": \"1985-01-02 00:00:00\",\n        \"max\": \"1985-12-31 00:00:00\",\n        \"num_unique_values\": 252,\n        \"samples\": [\n          \"1985-08-27 00:00:00\",\n          \"1985-01-10 00:00:00\",\n          \"1985-06-11 00:00:00\"\n        ],\n        \"semantic_type\": \"\",\n        \"description\": \"\"\n      }\n    },\n    {\n      \"column\": \"Open\",\n      \"properties\": {\n        \"dtype\": \"number\",\n        \"std\": 0.02042016166847536,\n        \"min\": 0.06529,\n        \"max\": 0.136719,\n        \"num_unique_values\": 86,\n        \"samples\": [\n          0.069196,\n          0.130022,\n          0.070871\n        ],\n        \"semantic_type\": \"\",\n        \"description\": \"\"\n      }\n    },\n    {\n      \"column\": \"High\",\n      \"properties\": {\n        \"dtype\": \"number\",\n        \"std\": 0.020657820492080113,\n        \"min\": 0.065848,\n        \"max\": 0.138951,\n        \"num_unique_values\": 93,\n        \"samples\": [\n          0.09375,\n          0.11942,\n          0.079799\n        ],\n        \"semantic_type\": \"\",\n        \"description\": \"\"\n      }\n    },\n    {\n      \"column\": \"Low\",\n      \"properties\": {\n        \"dtype\": \"number\",\n        \"std\": 0.02000666239924659,\n        \"min\": 0.064732,\n        \"max\": 0.136719,\n        \"num_unique_values\": 93,\n        \"samples\": [\n          0.09375,\n          0.11942,\n          0.078683\n        ],\n        \"semantic_type\": \"\",\n        \"description\": \"\"\n      }\n    },\n    {\n      \"column\": \"Close\",\n      \"properties\": {\n        \"dtype\": \"number\",\n        \"std\": 0.020196086631201524,\n        \"min\": 0.064732,\n        \"max\": 0.136719,\n        \"num_unique_values\": 94,\n        \"samples\": [\n          0.09375,\n          0.11942,\n          0.076451\n        ],\n        \"semantic_type\": \"\",\n        \"description\": \"\"\n      }\n    },\n    {\n      \"column\": \"Adj Close\",\n      \"properties\": {\n        \"dtype\": \"number\",\n        \"std\": 0.01576353235798938,\n        \"min\": 0.050525,\n        \"max\": 0.106712,\n        \"num_unique_values\": 94,\n        \"samples\": [\n          0.073174,\n          0.09321,\n          0.059672\n        ],\n        \"semantic_type\": \"\",\n        \"description\": \"\"\n      }\n    },\n    {\n      \"column\": \"Volume\",\n      \"properties\": {\n        \"dtype\": \"number\",\n        \"std\": 122504932,\n        \"min\": 21504000,\n        \"max\": 733980800,\n        \"num_unique_values\": 250,\n        \"samples\": [\n          315078400,\n          277065600,\n          152544000\n        ],\n        \"semantic_type\": \"\",\n        \"description\": \"\"\n      }\n    }\n  ]\n}"
            }
          },
          "metadata": {},
          "execution_count": 32
        }
      ],
      "source": [
        "df.head()"
      ]
    },
    {
      "cell_type": "code",
      "execution_count": null,
      "metadata": {
        "colab": {
          "base_uri": "https://localhost:8080/"
        },
        "id": "6qinPa8OeG5N",
        "outputId": "a9c6d4e3-61e5-4e12-cfcc-3b971e27b2b2"
      },
      "outputs": [
        {
          "output_type": "stream",
          "name": "stdout",
          "text": [
            "<class 'pandas.core.frame.DataFrame'>\n",
            "DatetimeIndex: 252 entries, 1985-01-02 to 1985-12-31\n",
            "Data columns (total 6 columns):\n",
            " #   Column     Non-Null Count  Dtype  \n",
            "---  ------     --------------  -----  \n",
            " 0   Open       252 non-null    float64\n",
            " 1   High       252 non-null    float64\n",
            " 2   Low        252 non-null    float64\n",
            " 3   Close      252 non-null    float64\n",
            " 4   Adj Close  252 non-null    float64\n",
            " 5   Volume     252 non-null    int64  \n",
            "dtypes: float64(5), int64(1)\n",
            "memory usage: 13.8 KB\n"
          ]
        }
      ],
      "source": [
        "df.info()"
      ]
    },
    {
      "cell_type": "code",
      "execution_count": null,
      "metadata": {
        "colab": {
          "base_uri": "https://localhost:8080/",
          "height": 297
        },
        "id": "2yH2Gv-keH6w",
        "outputId": "6be6b08c-e662-4d38-c394-a24f54bf5aa2"
      },
      "outputs": [
        {
          "output_type": "execute_result",
          "data": {
            "text/plain": [
              "             Open        High         Low       Close   Adj Close  \\\n",
              "count  252.000000  252.000000  252.000000  252.000000  252.000000   \n",
              "mean     0.091057    0.092023    0.089937    0.090233    0.070429   \n",
              "std      0.020420    0.020658    0.020007    0.020196    0.015764   \n",
              "min      0.065290    0.065848    0.064732    0.064732    0.050525   \n",
              "25%      0.075056    0.075614    0.073661    0.073661    0.057494   \n",
              "50%      0.088170    0.089286    0.086217    0.087612    0.068383   \n",
              "75%      0.099330    0.101004    0.098214    0.098772    0.077094   \n",
              "max      0.136719    0.138951    0.136719    0.136719    0.106712   \n",
              "\n",
              "             Volume  \n",
              "count  2.520000e+02  \n",
              "mean   1.805249e+08  \n",
              "std    1.225049e+08  \n",
              "min    2.150400e+07  \n",
              "25%    9.394560e+07  \n",
              "50%    1.455328e+08  \n",
              "75%    2.366616e+08  \n",
              "max    7.339808e+08  "
            ],
            "text/html": [
              "\n",
              "  <div id=\"df-f358eb33-7dc9-46b5-818e-fda5310dbd1d\" class=\"colab-df-container\">\n",
              "    <div>\n",
              "<style scoped>\n",
              "    .dataframe tbody tr th:only-of-type {\n",
              "        vertical-align: middle;\n",
              "    }\n",
              "\n",
              "    .dataframe tbody tr th {\n",
              "        vertical-align: top;\n",
              "    }\n",
              "\n",
              "    .dataframe thead th {\n",
              "        text-align: right;\n",
              "    }\n",
              "</style>\n",
              "<table border=\"1\" class=\"dataframe\">\n",
              "  <thead>\n",
              "    <tr style=\"text-align: right;\">\n",
              "      <th></th>\n",
              "      <th>Open</th>\n",
              "      <th>High</th>\n",
              "      <th>Low</th>\n",
              "      <th>Close</th>\n",
              "      <th>Adj Close</th>\n",
              "      <th>Volume</th>\n",
              "    </tr>\n",
              "  </thead>\n",
              "  <tbody>\n",
              "    <tr>\n",
              "      <th>count</th>\n",
              "      <td>252.000000</td>\n",
              "      <td>252.000000</td>\n",
              "      <td>252.000000</td>\n",
              "      <td>252.000000</td>\n",
              "      <td>252.000000</td>\n",
              "      <td>2.520000e+02</td>\n",
              "    </tr>\n",
              "    <tr>\n",
              "      <th>mean</th>\n",
              "      <td>0.091057</td>\n",
              "      <td>0.092023</td>\n",
              "      <td>0.089937</td>\n",
              "      <td>0.090233</td>\n",
              "      <td>0.070429</td>\n",
              "      <td>1.805249e+08</td>\n",
              "    </tr>\n",
              "    <tr>\n",
              "      <th>std</th>\n",
              "      <td>0.020420</td>\n",
              "      <td>0.020658</td>\n",
              "      <td>0.020007</td>\n",
              "      <td>0.020196</td>\n",
              "      <td>0.015764</td>\n",
              "      <td>1.225049e+08</td>\n",
              "    </tr>\n",
              "    <tr>\n",
              "      <th>min</th>\n",
              "      <td>0.065290</td>\n",
              "      <td>0.065848</td>\n",
              "      <td>0.064732</td>\n",
              "      <td>0.064732</td>\n",
              "      <td>0.050525</td>\n",
              "      <td>2.150400e+07</td>\n",
              "    </tr>\n",
              "    <tr>\n",
              "      <th>25%</th>\n",
              "      <td>0.075056</td>\n",
              "      <td>0.075614</td>\n",
              "      <td>0.073661</td>\n",
              "      <td>0.073661</td>\n",
              "      <td>0.057494</td>\n",
              "      <td>9.394560e+07</td>\n",
              "    </tr>\n",
              "    <tr>\n",
              "      <th>50%</th>\n",
              "      <td>0.088170</td>\n",
              "      <td>0.089286</td>\n",
              "      <td>0.086217</td>\n",
              "      <td>0.087612</td>\n",
              "      <td>0.068383</td>\n",
              "      <td>1.455328e+08</td>\n",
              "    </tr>\n",
              "    <tr>\n",
              "      <th>75%</th>\n",
              "      <td>0.099330</td>\n",
              "      <td>0.101004</td>\n",
              "      <td>0.098214</td>\n",
              "      <td>0.098772</td>\n",
              "      <td>0.077094</td>\n",
              "      <td>2.366616e+08</td>\n",
              "    </tr>\n",
              "    <tr>\n",
              "      <th>max</th>\n",
              "      <td>0.136719</td>\n",
              "      <td>0.138951</td>\n",
              "      <td>0.136719</td>\n",
              "      <td>0.136719</td>\n",
              "      <td>0.106712</td>\n",
              "      <td>7.339808e+08</td>\n",
              "    </tr>\n",
              "  </tbody>\n",
              "</table>\n",
              "</div>\n",
              "    <div class=\"colab-df-buttons\">\n",
              "\n",
              "  <div class=\"colab-df-container\">\n",
              "    <button class=\"colab-df-convert\" onclick=\"convertToInteractive('df-f358eb33-7dc9-46b5-818e-fda5310dbd1d')\"\n",
              "            title=\"Convert this dataframe to an interactive table.\"\n",
              "            style=\"display:none;\">\n",
              "\n",
              "  <svg xmlns=\"http://www.w3.org/2000/svg\" height=\"24px\" viewBox=\"0 -960 960 960\">\n",
              "    <path d=\"M120-120v-720h720v720H120Zm60-500h600v-160H180v160Zm220 220h160v-160H400v160Zm0 220h160v-160H400v160ZM180-400h160v-160H180v160Zm440 0h160v-160H620v160ZM180-180h160v-160H180v160Zm440 0h160v-160H620v160Z\"/>\n",
              "  </svg>\n",
              "    </button>\n",
              "\n",
              "  <style>\n",
              "    .colab-df-container {\n",
              "      display:flex;\n",
              "      gap: 12px;\n",
              "    }\n",
              "\n",
              "    .colab-df-convert {\n",
              "      background-color: #E8F0FE;\n",
              "      border: none;\n",
              "      border-radius: 50%;\n",
              "      cursor: pointer;\n",
              "      display: none;\n",
              "      fill: #1967D2;\n",
              "      height: 32px;\n",
              "      padding: 0 0 0 0;\n",
              "      width: 32px;\n",
              "    }\n",
              "\n",
              "    .colab-df-convert:hover {\n",
              "      background-color: #E2EBFA;\n",
              "      box-shadow: 0px 1px 2px rgba(60, 64, 67, 0.3), 0px 1px 3px 1px rgba(60, 64, 67, 0.15);\n",
              "      fill: #174EA6;\n",
              "    }\n",
              "\n",
              "    .colab-df-buttons div {\n",
              "      margin-bottom: 4px;\n",
              "    }\n",
              "\n",
              "    [theme=dark] .colab-df-convert {\n",
              "      background-color: #3B4455;\n",
              "      fill: #D2E3FC;\n",
              "    }\n",
              "\n",
              "    [theme=dark] .colab-df-convert:hover {\n",
              "      background-color: #434B5C;\n",
              "      box-shadow: 0px 1px 3px 1px rgba(0, 0, 0, 0.15);\n",
              "      filter: drop-shadow(0px 1px 2px rgba(0, 0, 0, 0.3));\n",
              "      fill: #FFFFFF;\n",
              "    }\n",
              "  </style>\n",
              "\n",
              "    <script>\n",
              "      const buttonEl =\n",
              "        document.querySelector('#df-f358eb33-7dc9-46b5-818e-fda5310dbd1d button.colab-df-convert');\n",
              "      buttonEl.style.display =\n",
              "        google.colab.kernel.accessAllowed ? 'block' : 'none';\n",
              "\n",
              "      async function convertToInteractive(key) {\n",
              "        const element = document.querySelector('#df-f358eb33-7dc9-46b5-818e-fda5310dbd1d');\n",
              "        const dataTable =\n",
              "          await google.colab.kernel.invokeFunction('convertToInteractive',\n",
              "                                                    [key], {});\n",
              "        if (!dataTable) return;\n",
              "\n",
              "        const docLinkHtml = 'Like what you see? Visit the ' +\n",
              "          '<a target=\"_blank\" href=https://colab.research.google.com/notebooks/data_table.ipynb>data table notebook</a>'\n",
              "          + ' to learn more about interactive tables.';\n",
              "        element.innerHTML = '';\n",
              "        dataTable['output_type'] = 'display_data';\n",
              "        await google.colab.output.renderOutput(dataTable, element);\n",
              "        const docLink = document.createElement('div');\n",
              "        docLink.innerHTML = docLinkHtml;\n",
              "        element.appendChild(docLink);\n",
              "      }\n",
              "    </script>\n",
              "  </div>\n",
              "\n",
              "\n",
              "<div id=\"df-32f24560-3e47-4cb7-b9e2-c16d5f9a25cb\">\n",
              "  <button class=\"colab-df-quickchart\" onclick=\"quickchart('df-32f24560-3e47-4cb7-b9e2-c16d5f9a25cb')\"\n",
              "            title=\"Suggest charts\"\n",
              "            style=\"display:none;\">\n",
              "\n",
              "<svg xmlns=\"http://www.w3.org/2000/svg\" height=\"24px\"viewBox=\"0 0 24 24\"\n",
              "     width=\"24px\">\n",
              "    <g>\n",
              "        <path d=\"M19 3H5c-1.1 0-2 .9-2 2v14c0 1.1.9 2 2 2h14c1.1 0 2-.9 2-2V5c0-1.1-.9-2-2-2zM9 17H7v-7h2v7zm4 0h-2V7h2v10zm4 0h-2v-4h2v4z\"/>\n",
              "    </g>\n",
              "</svg>\n",
              "  </button>\n",
              "\n",
              "<style>\n",
              "  .colab-df-quickchart {\n",
              "      --bg-color: #E8F0FE;\n",
              "      --fill-color: #1967D2;\n",
              "      --hover-bg-color: #E2EBFA;\n",
              "      --hover-fill-color: #174EA6;\n",
              "      --disabled-fill-color: #AAA;\n",
              "      --disabled-bg-color: #DDD;\n",
              "  }\n",
              "\n",
              "  [theme=dark] .colab-df-quickchart {\n",
              "      --bg-color: #3B4455;\n",
              "      --fill-color: #D2E3FC;\n",
              "      --hover-bg-color: #434B5C;\n",
              "      --hover-fill-color: #FFFFFF;\n",
              "      --disabled-bg-color: #3B4455;\n",
              "      --disabled-fill-color: #666;\n",
              "  }\n",
              "\n",
              "  .colab-df-quickchart {\n",
              "    background-color: var(--bg-color);\n",
              "    border: none;\n",
              "    border-radius: 50%;\n",
              "    cursor: pointer;\n",
              "    display: none;\n",
              "    fill: var(--fill-color);\n",
              "    height: 32px;\n",
              "    padding: 0;\n",
              "    width: 32px;\n",
              "  }\n",
              "\n",
              "  .colab-df-quickchart:hover {\n",
              "    background-color: var(--hover-bg-color);\n",
              "    box-shadow: 0 1px 2px rgba(60, 64, 67, 0.3), 0 1px 3px 1px rgba(60, 64, 67, 0.15);\n",
              "    fill: var(--button-hover-fill-color);\n",
              "  }\n",
              "\n",
              "  .colab-df-quickchart-complete:disabled,\n",
              "  .colab-df-quickchart-complete:disabled:hover {\n",
              "    background-color: var(--disabled-bg-color);\n",
              "    fill: var(--disabled-fill-color);\n",
              "    box-shadow: none;\n",
              "  }\n",
              "\n",
              "  .colab-df-spinner {\n",
              "    border: 2px solid var(--fill-color);\n",
              "    border-color: transparent;\n",
              "    border-bottom-color: var(--fill-color);\n",
              "    animation:\n",
              "      spin 1s steps(1) infinite;\n",
              "  }\n",
              "\n",
              "  @keyframes spin {\n",
              "    0% {\n",
              "      border-color: transparent;\n",
              "      border-bottom-color: var(--fill-color);\n",
              "      border-left-color: var(--fill-color);\n",
              "    }\n",
              "    20% {\n",
              "      border-color: transparent;\n",
              "      border-left-color: var(--fill-color);\n",
              "      border-top-color: var(--fill-color);\n",
              "    }\n",
              "    30% {\n",
              "      border-color: transparent;\n",
              "      border-left-color: var(--fill-color);\n",
              "      border-top-color: var(--fill-color);\n",
              "      border-right-color: var(--fill-color);\n",
              "    }\n",
              "    40% {\n",
              "      border-color: transparent;\n",
              "      border-right-color: var(--fill-color);\n",
              "      border-top-color: var(--fill-color);\n",
              "    }\n",
              "    60% {\n",
              "      border-color: transparent;\n",
              "      border-right-color: var(--fill-color);\n",
              "    }\n",
              "    80% {\n",
              "      border-color: transparent;\n",
              "      border-right-color: var(--fill-color);\n",
              "      border-bottom-color: var(--fill-color);\n",
              "    }\n",
              "    90% {\n",
              "      border-color: transparent;\n",
              "      border-bottom-color: var(--fill-color);\n",
              "    }\n",
              "  }\n",
              "</style>\n",
              "\n",
              "  <script>\n",
              "    async function quickchart(key) {\n",
              "      const quickchartButtonEl =\n",
              "        document.querySelector('#' + key + ' button');\n",
              "      quickchartButtonEl.disabled = true;  // To prevent multiple clicks.\n",
              "      quickchartButtonEl.classList.add('colab-df-spinner');\n",
              "      try {\n",
              "        const charts = await google.colab.kernel.invokeFunction(\n",
              "            'suggestCharts', [key], {});\n",
              "      } catch (error) {\n",
              "        console.error('Error during call to suggestCharts:', error);\n",
              "      }\n",
              "      quickchartButtonEl.classList.remove('colab-df-spinner');\n",
              "      quickchartButtonEl.classList.add('colab-df-quickchart-complete');\n",
              "    }\n",
              "    (() => {\n",
              "      let quickchartButtonEl =\n",
              "        document.querySelector('#df-32f24560-3e47-4cb7-b9e2-c16d5f9a25cb button');\n",
              "      quickchartButtonEl.style.display =\n",
              "        google.colab.kernel.accessAllowed ? 'block' : 'none';\n",
              "    })();\n",
              "  </script>\n",
              "</div>\n",
              "\n",
              "    </div>\n",
              "  </div>\n"
            ],
            "application/vnd.google.colaboratory.intrinsic+json": {
              "type": "dataframe",
              "summary": "{\n  \"name\": \"df\",\n  \"rows\": 8,\n  \"fields\": [\n    {\n      \"column\": \"Open\",\n      \"properties\": {\n        \"dtype\": \"number\",\n        \"std\": 89.06636593537063,\n        \"min\": 0.02042016166847536,\n        \"max\": 252.0,\n        \"num_unique_values\": 8,\n        \"samples\": [\n          0.09105725793650794,\n          0.08817,\n          252.0\n        ],\n        \"semantic_type\": \"\",\n        \"description\": \"\"\n      }\n    },\n    {\n      \"column\": \"High\",\n      \"properties\": {\n        \"dtype\": \"number\",\n        \"std\": 89.06599537265842,\n        \"min\": 0.020657820492080113,\n        \"max\": 252.0,\n        \"num_unique_values\": 8,\n        \"samples\": [\n          0.09202275793650794,\n          0.089286,\n          252.0\n        ],\n        \"semantic_type\": \"\",\n        \"description\": \"\"\n      }\n    },\n    {\n      \"column\": \"Low\",\n      \"properties\": {\n        \"dtype\": \"number\",\n        \"std\": 89.06669707297905,\n        \"min\": 0.02000666239924659,\n        \"max\": 252.0,\n        \"num_unique_values\": 8,\n        \"samples\": [\n          0.08993676190476191,\n          0.086217,\n          252.0\n        ],\n        \"semantic_type\": \"\",\n        \"description\": \"\"\n      }\n    },\n    {\n      \"column\": \"Close\",\n      \"properties\": {\n        \"dtype\": \"number\",\n        \"std\": 89.06657388992707,\n        \"min\": 0.020196086631201524,\n        \"max\": 252.0,\n        \"num_unique_values\": 8,\n        \"samples\": [\n          0.0902334880952381,\n          0.087612,\n          252.0\n        ],\n        \"semantic_type\": \"\",\n        \"description\": \"\"\n      }\n    },\n    {\n      \"column\": \"Adj Close\",\n      \"properties\": {\n        \"dtype\": \"number\",\n        \"std\": 89.07291147948753,\n        \"min\": 0.01576353235798938,\n        \"max\": 252.0,\n        \"num_unique_values\": 8,\n        \"samples\": [\n          0.07042924603174604,\n          0.068383,\n          252.0\n        ],\n        \"semantic_type\": \"\",\n        \"description\": \"\"\n      }\n    },\n    {\n      \"column\": \"Volume\",\n      \"properties\": {\n        \"dtype\": \"number\",\n        \"std\": 232503615.2534487,\n        \"min\": 252.0,\n        \"max\": 733980800.0,\n        \"num_unique_values\": 8,\n        \"samples\": [\n          180524888.8888889,\n          145532800.0,\n          252.0\n        ],\n        \"semantic_type\": \"\",\n        \"description\": \"\"\n      }\n    }\n  ]\n}"
            }
          },
          "metadata": {},
          "execution_count": 34
        }
      ],
      "source": [
        "df.describe()"
      ]
    },
    {
      "cell_type": "markdown",
      "metadata": {
        "id": "uMiZ654Gd5bh"
      },
      "source": [
        "# **Pre Processing**"
      ]
    },
    {
      "cell_type": "code",
      "execution_count": null,
      "metadata": {
        "colab": {
          "base_uri": "https://localhost:8080/"
        },
        "id": "Q5IcSa2MeANH",
        "outputId": "5c46f6f8-5931-48b7-ca5c-1df00d481c70"
      },
      "outputs": [
        {
          "output_type": "stream",
          "name": "stdout",
          "text": [
            "<class 'pandas.core.frame.DataFrame'>\n",
            "Index: 252 entries, 1025 to 1276\n",
            "Data columns (total 7 columns):\n",
            " #   Column     Non-Null Count  Dtype         \n",
            "---  ------     --------------  -----         \n",
            " 0   Date       252 non-null    datetime64[ns]\n",
            " 1   Open       252 non-null    float64       \n",
            " 2   High       252 non-null    float64       \n",
            " 3   Low        252 non-null    float64       \n",
            " 4   Close      252 non-null    float64       \n",
            " 5   Adj Close  252 non-null    float64       \n",
            " 6   Volume     252 non-null    int64         \n",
            "dtypes: datetime64[ns](1), float64(5), int64(1)\n",
            "memory usage: 15.8 KB\n"
          ]
        }
      ],
      "source": [
        "df.info()"
      ]
    },
    {
      "cell_type": "code",
      "execution_count": null,
      "metadata": {
        "colab": {
          "base_uri": "https://localhost:8080/",
          "height": 300
        },
        "id": "7qiuME-oeBj8",
        "outputId": "b6b8efc1-67d1-4ca1-aedc-ecf7851094a2"
      },
      "outputs": [
        {
          "output_type": "execute_result",
          "data": {
            "text/plain": [
              "Date         0\n",
              "Open         0\n",
              "High         0\n",
              "Low          0\n",
              "Close        0\n",
              "Adj Close    0\n",
              "Volume       0\n",
              "dtype: int64"
            ],
            "text/html": [
              "<div>\n",
              "<style scoped>\n",
              "    .dataframe tbody tr th:only-of-type {\n",
              "        vertical-align: middle;\n",
              "    }\n",
              "\n",
              "    .dataframe tbody tr th {\n",
              "        vertical-align: top;\n",
              "    }\n",
              "\n",
              "    .dataframe thead th {\n",
              "        text-align: right;\n",
              "    }\n",
              "</style>\n",
              "<table border=\"1\" class=\"dataframe\">\n",
              "  <thead>\n",
              "    <tr style=\"text-align: right;\">\n",
              "      <th></th>\n",
              "      <th>0</th>\n",
              "    </tr>\n",
              "  </thead>\n",
              "  <tbody>\n",
              "    <tr>\n",
              "      <th>Date</th>\n",
              "      <td>0</td>\n",
              "    </tr>\n",
              "    <tr>\n",
              "      <th>Open</th>\n",
              "      <td>0</td>\n",
              "    </tr>\n",
              "    <tr>\n",
              "      <th>High</th>\n",
              "      <td>0</td>\n",
              "    </tr>\n",
              "    <tr>\n",
              "      <th>Low</th>\n",
              "      <td>0</td>\n",
              "    </tr>\n",
              "    <tr>\n",
              "      <th>Close</th>\n",
              "      <td>0</td>\n",
              "    </tr>\n",
              "    <tr>\n",
              "      <th>Adj Close</th>\n",
              "      <td>0</td>\n",
              "    </tr>\n",
              "    <tr>\n",
              "      <th>Volume</th>\n",
              "      <td>0</td>\n",
              "    </tr>\n",
              "  </tbody>\n",
              "</table>\n",
              "</div><br><label><b>dtype:</b> int64</label>"
            ]
          },
          "metadata": {},
          "execution_count": 8
        }
      ],
      "source": [
        "df.isna().sum()"
      ]
    },
    {
      "cell_type": "code",
      "execution_count": null,
      "metadata": {
        "colab": {
          "base_uri": "https://localhost:8080/"
        },
        "id": "rHvFOB7KeEnk",
        "outputId": "f0e07678-c908-47da-ec31-deafc49059cc"
      },
      "outputs": [
        {
          "output_type": "execute_result",
          "data": {
            "text/plain": [
              "0"
            ]
          },
          "metadata": {},
          "execution_count": 9
        }
      ],
      "source": [
        "df.duplicated().sum()"
      ]
    },
    {
      "cell_type": "code",
      "source": [
        "df = df.groupby('Date').mean().reset_index()\n",
        "df"
      ],
      "metadata": {
        "colab": {
          "base_uri": "https://localhost:8080/",
          "height": 419
        },
        "id": "6CyDLkBmnBci",
        "outputId": "6baeaf20-7f21-46ba-90f9-0b5db0cd8374"
      },
      "execution_count": null,
      "outputs": [
        {
          "output_type": "execute_result",
          "data": {
            "text/plain": [
              "          Date      Open      High       Low     Close  Adj Close       Volume\n",
              "0   1985-01-02  0.130022  0.130022  0.124442  0.124442   0.097130  175302400.0\n",
              "1   1985-01-03  0.126674  0.130022  0.126674  0.126674   0.098872  166611200.0\n",
              "2   1985-01-04  0.126674  0.127232  0.125000  0.126674   0.098872  137267200.0\n",
              "3   1985-01-07  0.126674  0.127232  0.126116  0.126116   0.098436  170912000.0\n",
              "4   1985-01-08  0.126116  0.127232  0.125000  0.125000   0.097565  141120000.0\n",
              "..         ...       ...       ...       ...       ...        ...          ...\n",
              "247 1985-12-24  0.097656  0.098214  0.096540  0.097098   0.075787   64601600.0\n",
              "248 1985-12-26  0.097098  0.098214  0.096540  0.097098   0.075787   45852800.0\n",
              "249 1985-12-27  0.097098  0.101004  0.097098  0.099888   0.077965  122886400.0\n",
              "250 1985-12-30  0.099888  0.101004  0.098772  0.099330   0.077529  107676800.0\n",
              "251 1985-12-31  0.099330  0.099888  0.098214  0.098214   0.076658   87248000.0\n",
              "\n",
              "[252 rows x 7 columns]"
            ],
            "text/html": [
              "\n",
              "  <div id=\"df-7d1e0826-8d80-4c68-8cfa-cc956c88f92e\" class=\"colab-df-container\">\n",
              "    <div>\n",
              "<style scoped>\n",
              "    .dataframe tbody tr th:only-of-type {\n",
              "        vertical-align: middle;\n",
              "    }\n",
              "\n",
              "    .dataframe tbody tr th {\n",
              "        vertical-align: top;\n",
              "    }\n",
              "\n",
              "    .dataframe thead th {\n",
              "        text-align: right;\n",
              "    }\n",
              "</style>\n",
              "<table border=\"1\" class=\"dataframe\">\n",
              "  <thead>\n",
              "    <tr style=\"text-align: right;\">\n",
              "      <th></th>\n",
              "      <th>Date</th>\n",
              "      <th>Open</th>\n",
              "      <th>High</th>\n",
              "      <th>Low</th>\n",
              "      <th>Close</th>\n",
              "      <th>Adj Close</th>\n",
              "      <th>Volume</th>\n",
              "    </tr>\n",
              "  </thead>\n",
              "  <tbody>\n",
              "    <tr>\n",
              "      <th>0</th>\n",
              "      <td>1985-01-02</td>\n",
              "      <td>0.130022</td>\n",
              "      <td>0.130022</td>\n",
              "      <td>0.124442</td>\n",
              "      <td>0.124442</td>\n",
              "      <td>0.097130</td>\n",
              "      <td>175302400.0</td>\n",
              "    </tr>\n",
              "    <tr>\n",
              "      <th>1</th>\n",
              "      <td>1985-01-03</td>\n",
              "      <td>0.126674</td>\n",
              "      <td>0.130022</td>\n",
              "      <td>0.126674</td>\n",
              "      <td>0.126674</td>\n",
              "      <td>0.098872</td>\n",
              "      <td>166611200.0</td>\n",
              "    </tr>\n",
              "    <tr>\n",
              "      <th>2</th>\n",
              "      <td>1985-01-04</td>\n",
              "      <td>0.126674</td>\n",
              "      <td>0.127232</td>\n",
              "      <td>0.125000</td>\n",
              "      <td>0.126674</td>\n",
              "      <td>0.098872</td>\n",
              "      <td>137267200.0</td>\n",
              "    </tr>\n",
              "    <tr>\n",
              "      <th>3</th>\n",
              "      <td>1985-01-07</td>\n",
              "      <td>0.126674</td>\n",
              "      <td>0.127232</td>\n",
              "      <td>0.126116</td>\n",
              "      <td>0.126116</td>\n",
              "      <td>0.098436</td>\n",
              "      <td>170912000.0</td>\n",
              "    </tr>\n",
              "    <tr>\n",
              "      <th>4</th>\n",
              "      <td>1985-01-08</td>\n",
              "      <td>0.126116</td>\n",
              "      <td>0.127232</td>\n",
              "      <td>0.125000</td>\n",
              "      <td>0.125000</td>\n",
              "      <td>0.097565</td>\n",
              "      <td>141120000.0</td>\n",
              "    </tr>\n",
              "    <tr>\n",
              "      <th>...</th>\n",
              "      <td>...</td>\n",
              "      <td>...</td>\n",
              "      <td>...</td>\n",
              "      <td>...</td>\n",
              "      <td>...</td>\n",
              "      <td>...</td>\n",
              "      <td>...</td>\n",
              "    </tr>\n",
              "    <tr>\n",
              "      <th>247</th>\n",
              "      <td>1985-12-24</td>\n",
              "      <td>0.097656</td>\n",
              "      <td>0.098214</td>\n",
              "      <td>0.096540</td>\n",
              "      <td>0.097098</td>\n",
              "      <td>0.075787</td>\n",
              "      <td>64601600.0</td>\n",
              "    </tr>\n",
              "    <tr>\n",
              "      <th>248</th>\n",
              "      <td>1985-12-26</td>\n",
              "      <td>0.097098</td>\n",
              "      <td>0.098214</td>\n",
              "      <td>0.096540</td>\n",
              "      <td>0.097098</td>\n",
              "      <td>0.075787</td>\n",
              "      <td>45852800.0</td>\n",
              "    </tr>\n",
              "    <tr>\n",
              "      <th>249</th>\n",
              "      <td>1985-12-27</td>\n",
              "      <td>0.097098</td>\n",
              "      <td>0.101004</td>\n",
              "      <td>0.097098</td>\n",
              "      <td>0.099888</td>\n",
              "      <td>0.077965</td>\n",
              "      <td>122886400.0</td>\n",
              "    </tr>\n",
              "    <tr>\n",
              "      <th>250</th>\n",
              "      <td>1985-12-30</td>\n",
              "      <td>0.099888</td>\n",
              "      <td>0.101004</td>\n",
              "      <td>0.098772</td>\n",
              "      <td>0.099330</td>\n",
              "      <td>0.077529</td>\n",
              "      <td>107676800.0</td>\n",
              "    </tr>\n",
              "    <tr>\n",
              "      <th>251</th>\n",
              "      <td>1985-12-31</td>\n",
              "      <td>0.099330</td>\n",
              "      <td>0.099888</td>\n",
              "      <td>0.098214</td>\n",
              "      <td>0.098214</td>\n",
              "      <td>0.076658</td>\n",
              "      <td>87248000.0</td>\n",
              "    </tr>\n",
              "  </tbody>\n",
              "</table>\n",
              "<p>252 rows × 7 columns</p>\n",
              "</div>\n",
              "    <div class=\"colab-df-buttons\">\n",
              "\n",
              "  <div class=\"colab-df-container\">\n",
              "    <button class=\"colab-df-convert\" onclick=\"convertToInteractive('df-7d1e0826-8d80-4c68-8cfa-cc956c88f92e')\"\n",
              "            title=\"Convert this dataframe to an interactive table.\"\n",
              "            style=\"display:none;\">\n",
              "\n",
              "  <svg xmlns=\"http://www.w3.org/2000/svg\" height=\"24px\" viewBox=\"0 -960 960 960\">\n",
              "    <path d=\"M120-120v-720h720v720H120Zm60-500h600v-160H180v160Zm220 220h160v-160H400v160Zm0 220h160v-160H400v160ZM180-400h160v-160H180v160Zm440 0h160v-160H620v160ZM180-180h160v-160H180v160Zm440 0h160v-160H620v160Z\"/>\n",
              "  </svg>\n",
              "    </button>\n",
              "\n",
              "  <style>\n",
              "    .colab-df-container {\n",
              "      display:flex;\n",
              "      gap: 12px;\n",
              "    }\n",
              "\n",
              "    .colab-df-convert {\n",
              "      background-color: #E8F0FE;\n",
              "      border: none;\n",
              "      border-radius: 50%;\n",
              "      cursor: pointer;\n",
              "      display: none;\n",
              "      fill: #1967D2;\n",
              "      height: 32px;\n",
              "      padding: 0 0 0 0;\n",
              "      width: 32px;\n",
              "    }\n",
              "\n",
              "    .colab-df-convert:hover {\n",
              "      background-color: #E2EBFA;\n",
              "      box-shadow: 0px 1px 2px rgba(60, 64, 67, 0.3), 0px 1px 3px 1px rgba(60, 64, 67, 0.15);\n",
              "      fill: #174EA6;\n",
              "    }\n",
              "\n",
              "    .colab-df-buttons div {\n",
              "      margin-bottom: 4px;\n",
              "    }\n",
              "\n",
              "    [theme=dark] .colab-df-convert {\n",
              "      background-color: #3B4455;\n",
              "      fill: #D2E3FC;\n",
              "    }\n",
              "\n",
              "    [theme=dark] .colab-df-convert:hover {\n",
              "      background-color: #434B5C;\n",
              "      box-shadow: 0px 1px 3px 1px rgba(0, 0, 0, 0.15);\n",
              "      filter: drop-shadow(0px 1px 2px rgba(0, 0, 0, 0.3));\n",
              "      fill: #FFFFFF;\n",
              "    }\n",
              "  </style>\n",
              "\n",
              "    <script>\n",
              "      const buttonEl =\n",
              "        document.querySelector('#df-7d1e0826-8d80-4c68-8cfa-cc956c88f92e button.colab-df-convert');\n",
              "      buttonEl.style.display =\n",
              "        google.colab.kernel.accessAllowed ? 'block' : 'none';\n",
              "\n",
              "      async function convertToInteractive(key) {\n",
              "        const element = document.querySelector('#df-7d1e0826-8d80-4c68-8cfa-cc956c88f92e');\n",
              "        const dataTable =\n",
              "          await google.colab.kernel.invokeFunction('convertToInteractive',\n",
              "                                                    [key], {});\n",
              "        if (!dataTable) return;\n",
              "\n",
              "        const docLinkHtml = 'Like what you see? Visit the ' +\n",
              "          '<a target=\"_blank\" href=https://colab.research.google.com/notebooks/data_table.ipynb>data table notebook</a>'\n",
              "          + ' to learn more about interactive tables.';\n",
              "        element.innerHTML = '';\n",
              "        dataTable['output_type'] = 'display_data';\n",
              "        await google.colab.output.renderOutput(dataTable, element);\n",
              "        const docLink = document.createElement('div');\n",
              "        docLink.innerHTML = docLinkHtml;\n",
              "        element.appendChild(docLink);\n",
              "      }\n",
              "    </script>\n",
              "  </div>\n",
              "\n",
              "\n",
              "<div id=\"df-929f55da-2916-4901-ac4f-a8bb205553cf\">\n",
              "  <button class=\"colab-df-quickchart\" onclick=\"quickchart('df-929f55da-2916-4901-ac4f-a8bb205553cf')\"\n",
              "            title=\"Suggest charts\"\n",
              "            style=\"display:none;\">\n",
              "\n",
              "<svg xmlns=\"http://www.w3.org/2000/svg\" height=\"24px\"viewBox=\"0 0 24 24\"\n",
              "     width=\"24px\">\n",
              "    <g>\n",
              "        <path d=\"M19 3H5c-1.1 0-2 .9-2 2v14c0 1.1.9 2 2 2h14c1.1 0 2-.9 2-2V5c0-1.1-.9-2-2-2zM9 17H7v-7h2v7zm4 0h-2V7h2v10zm4 0h-2v-4h2v4z\"/>\n",
              "    </g>\n",
              "</svg>\n",
              "  </button>\n",
              "\n",
              "<style>\n",
              "  .colab-df-quickchart {\n",
              "      --bg-color: #E8F0FE;\n",
              "      --fill-color: #1967D2;\n",
              "      --hover-bg-color: #E2EBFA;\n",
              "      --hover-fill-color: #174EA6;\n",
              "      --disabled-fill-color: #AAA;\n",
              "      --disabled-bg-color: #DDD;\n",
              "  }\n",
              "\n",
              "  [theme=dark] .colab-df-quickchart {\n",
              "      --bg-color: #3B4455;\n",
              "      --fill-color: #D2E3FC;\n",
              "      --hover-bg-color: #434B5C;\n",
              "      --hover-fill-color: #FFFFFF;\n",
              "      --disabled-bg-color: #3B4455;\n",
              "      --disabled-fill-color: #666;\n",
              "  }\n",
              "\n",
              "  .colab-df-quickchart {\n",
              "    background-color: var(--bg-color);\n",
              "    border: none;\n",
              "    border-radius: 50%;\n",
              "    cursor: pointer;\n",
              "    display: none;\n",
              "    fill: var(--fill-color);\n",
              "    height: 32px;\n",
              "    padding: 0;\n",
              "    width: 32px;\n",
              "  }\n",
              "\n",
              "  .colab-df-quickchart:hover {\n",
              "    background-color: var(--hover-bg-color);\n",
              "    box-shadow: 0 1px 2px rgba(60, 64, 67, 0.3), 0 1px 3px 1px rgba(60, 64, 67, 0.15);\n",
              "    fill: var(--button-hover-fill-color);\n",
              "  }\n",
              "\n",
              "  .colab-df-quickchart-complete:disabled,\n",
              "  .colab-df-quickchart-complete:disabled:hover {\n",
              "    background-color: var(--disabled-bg-color);\n",
              "    fill: var(--disabled-fill-color);\n",
              "    box-shadow: none;\n",
              "  }\n",
              "\n",
              "  .colab-df-spinner {\n",
              "    border: 2px solid var(--fill-color);\n",
              "    border-color: transparent;\n",
              "    border-bottom-color: var(--fill-color);\n",
              "    animation:\n",
              "      spin 1s steps(1) infinite;\n",
              "  }\n",
              "\n",
              "  @keyframes spin {\n",
              "    0% {\n",
              "      border-color: transparent;\n",
              "      border-bottom-color: var(--fill-color);\n",
              "      border-left-color: var(--fill-color);\n",
              "    }\n",
              "    20% {\n",
              "      border-color: transparent;\n",
              "      border-left-color: var(--fill-color);\n",
              "      border-top-color: var(--fill-color);\n",
              "    }\n",
              "    30% {\n",
              "      border-color: transparent;\n",
              "      border-left-color: var(--fill-color);\n",
              "      border-top-color: var(--fill-color);\n",
              "      border-right-color: var(--fill-color);\n",
              "    }\n",
              "    40% {\n",
              "      border-color: transparent;\n",
              "      border-right-color: var(--fill-color);\n",
              "      border-top-color: var(--fill-color);\n",
              "    }\n",
              "    60% {\n",
              "      border-color: transparent;\n",
              "      border-right-color: var(--fill-color);\n",
              "    }\n",
              "    80% {\n",
              "      border-color: transparent;\n",
              "      border-right-color: var(--fill-color);\n",
              "      border-bottom-color: var(--fill-color);\n",
              "    }\n",
              "    90% {\n",
              "      border-color: transparent;\n",
              "      border-bottom-color: var(--fill-color);\n",
              "    }\n",
              "  }\n",
              "</style>\n",
              "\n",
              "  <script>\n",
              "    async function quickchart(key) {\n",
              "      const quickchartButtonEl =\n",
              "        document.querySelector('#' + key + ' button');\n",
              "      quickchartButtonEl.disabled = true;  // To prevent multiple clicks.\n",
              "      quickchartButtonEl.classList.add('colab-df-spinner');\n",
              "      try {\n",
              "        const charts = await google.colab.kernel.invokeFunction(\n",
              "            'suggestCharts', [key], {});\n",
              "      } catch (error) {\n",
              "        console.error('Error during call to suggestCharts:', error);\n",
              "      }\n",
              "      quickchartButtonEl.classList.remove('colab-df-spinner');\n",
              "      quickchartButtonEl.classList.add('colab-df-quickchart-complete');\n",
              "    }\n",
              "    (() => {\n",
              "      let quickchartButtonEl =\n",
              "        document.querySelector('#df-929f55da-2916-4901-ac4f-a8bb205553cf button');\n",
              "      quickchartButtonEl.style.display =\n",
              "        google.colab.kernel.accessAllowed ? 'block' : 'none';\n",
              "    })();\n",
              "  </script>\n",
              "</div>\n",
              "\n",
              "  <div id=\"id_f177619b-b3eb-485d-9660-dd017190dd72\">\n",
              "    <style>\n",
              "      .colab-df-generate {\n",
              "        background-color: #E8F0FE;\n",
              "        border: none;\n",
              "        border-radius: 50%;\n",
              "        cursor: pointer;\n",
              "        display: none;\n",
              "        fill: #1967D2;\n",
              "        height: 32px;\n",
              "        padding: 0 0 0 0;\n",
              "        width: 32px;\n",
              "      }\n",
              "\n",
              "      .colab-df-generate:hover {\n",
              "        background-color: #E2EBFA;\n",
              "        box-shadow: 0px 1px 2px rgba(60, 64, 67, 0.3), 0px 1px 3px 1px rgba(60, 64, 67, 0.15);\n",
              "        fill: #174EA6;\n",
              "      }\n",
              "\n",
              "      [theme=dark] .colab-df-generate {\n",
              "        background-color: #3B4455;\n",
              "        fill: #D2E3FC;\n",
              "      }\n",
              "\n",
              "      [theme=dark] .colab-df-generate:hover {\n",
              "        background-color: #434B5C;\n",
              "        box-shadow: 0px 1px 3px 1px rgba(0, 0, 0, 0.15);\n",
              "        filter: drop-shadow(0px 1px 2px rgba(0, 0, 0, 0.3));\n",
              "        fill: #FFFFFF;\n",
              "      }\n",
              "    </style>\n",
              "    <button class=\"colab-df-generate\" onclick=\"generateWithVariable('df')\"\n",
              "            title=\"Generate code using this dataframe.\"\n",
              "            style=\"display:none;\">\n",
              "\n",
              "  <svg xmlns=\"http://www.w3.org/2000/svg\" height=\"24px\"viewBox=\"0 0 24 24\"\n",
              "       width=\"24px\">\n",
              "    <path d=\"M7,19H8.4L18.45,9,17,7.55,7,17.6ZM5,21V16.75L18.45,3.32a2,2,0,0,1,2.83,0l1.4,1.43a1.91,1.91,0,0,1,.58,1.4,1.91,1.91,0,0,1-.58,1.4L9.25,21ZM18.45,9,17,7.55Zm-12,3A5.31,5.31,0,0,0,4.9,8.1,5.31,5.31,0,0,0,1,6.5,5.31,5.31,0,0,0,4.9,4.9,5.31,5.31,0,0,0,6.5,1,5.31,5.31,0,0,0,8.1,4.9,5.31,5.31,0,0,0,12,6.5,5.46,5.46,0,0,0,6.5,12Z\"/>\n",
              "  </svg>\n",
              "    </button>\n",
              "    <script>\n",
              "      (() => {\n",
              "      const buttonEl =\n",
              "        document.querySelector('#id_f177619b-b3eb-485d-9660-dd017190dd72 button.colab-df-generate');\n",
              "      buttonEl.style.display =\n",
              "        google.colab.kernel.accessAllowed ? 'block' : 'none';\n",
              "\n",
              "      buttonEl.onclick = () => {\n",
              "        google.colab.notebook.generateWithVariable('df');\n",
              "      }\n",
              "      })();\n",
              "    </script>\n",
              "  </div>\n",
              "\n",
              "    </div>\n",
              "  </div>\n"
            ],
            "application/vnd.google.colaboratory.intrinsic+json": {
              "type": "dataframe",
              "variable_name": "df",
              "summary": "{\n  \"name\": \"df\",\n  \"rows\": 252,\n  \"fields\": [\n    {\n      \"column\": \"Date\",\n      \"properties\": {\n        \"dtype\": \"date\",\n        \"min\": \"1985-01-02 00:00:00\",\n        \"max\": \"1985-12-31 00:00:00\",\n        \"num_unique_values\": 252,\n        \"samples\": [\n          \"1985-08-27 00:00:00\",\n          \"1985-01-10 00:00:00\",\n          \"1985-06-11 00:00:00\"\n        ],\n        \"semantic_type\": \"\",\n        \"description\": \"\"\n      }\n    },\n    {\n      \"column\": \"Open\",\n      \"properties\": {\n        \"dtype\": \"number\",\n        \"std\": 0.02042016166847536,\n        \"min\": 0.06529,\n        \"max\": 0.136719,\n        \"num_unique_values\": 86,\n        \"samples\": [\n          0.069196,\n          0.130022,\n          0.070871\n        ],\n        \"semantic_type\": \"\",\n        \"description\": \"\"\n      }\n    },\n    {\n      \"column\": \"High\",\n      \"properties\": {\n        \"dtype\": \"number\",\n        \"std\": 0.020657820492080113,\n        \"min\": 0.065848,\n        \"max\": 0.138951,\n        \"num_unique_values\": 93,\n        \"samples\": [\n          0.09375,\n          0.11942,\n          0.079799\n        ],\n        \"semantic_type\": \"\",\n        \"description\": \"\"\n      }\n    },\n    {\n      \"column\": \"Low\",\n      \"properties\": {\n        \"dtype\": \"number\",\n        \"std\": 0.02000666239924659,\n        \"min\": 0.064732,\n        \"max\": 0.136719,\n        \"num_unique_values\": 93,\n        \"samples\": [\n          0.09375,\n          0.11942,\n          0.078683\n        ],\n        \"semantic_type\": \"\",\n        \"description\": \"\"\n      }\n    },\n    {\n      \"column\": \"Close\",\n      \"properties\": {\n        \"dtype\": \"number\",\n        \"std\": 0.020196086631201524,\n        \"min\": 0.064732,\n        \"max\": 0.136719,\n        \"num_unique_values\": 94,\n        \"samples\": [\n          0.09375,\n          0.11942,\n          0.076451\n        ],\n        \"semantic_type\": \"\",\n        \"description\": \"\"\n      }\n    },\n    {\n      \"column\": \"Adj Close\",\n      \"properties\": {\n        \"dtype\": \"number\",\n        \"std\": 0.01576353235798938,\n        \"min\": 0.050525,\n        \"max\": 0.106712,\n        \"num_unique_values\": 94,\n        \"samples\": [\n          0.073174,\n          0.09321,\n          0.059672\n        ],\n        \"semantic_type\": \"\",\n        \"description\": \"\"\n      }\n    },\n    {\n      \"column\": \"Volume\",\n      \"properties\": {\n        \"dtype\": \"number\",\n        \"std\": 122504932.76064596,\n        \"min\": 21504000.0,\n        \"max\": 733980800.0,\n        \"num_unique_values\": 250,\n        \"samples\": [\n          315078400.0,\n          277065600.0,\n          152544000.0\n        ],\n        \"semantic_type\": \"\",\n        \"description\": \"\"\n      }\n    }\n  ]\n}"
            }
          },
          "metadata": {},
          "execution_count": 10
        }
      ]
    },
    {
      "cell_type": "markdown",
      "metadata": {
        "id": "E640T44nd8HO"
      },
      "source": [
        "# **Visualisasi**"
      ]
    },
    {
      "cell_type": "code",
      "execution_count": null,
      "metadata": {
        "colab": {
          "base_uri": "https://localhost:8080/",
          "height": 542
        },
        "id": "f7wOomkDdVJk",
        "outputId": "9251a4bc-7fb3-4849-add0-6a0afc9073f8"
      },
      "outputs": [
        {
          "output_type": "display_data",
          "data": {
            "text/html": [
              "<html>\n",
              "<head><meta charset=\"utf-8\" /></head>\n",
              "<body>\n",
              "    <div>            <script src=\"https://cdnjs.cloudflare.com/ajax/libs/mathjax/2.7.5/MathJax.js?config=TeX-AMS-MML_SVG\"></script><script type=\"text/javascript\">if (window.MathJax && window.MathJax.Hub && window.MathJax.Hub.Config) {window.MathJax.Hub.Config({SVG: {font: \"STIX-Web\"}});}</script>                <script type=\"text/javascript\">window.PlotlyConfig = {MathJaxConfig: 'local'};</script>\n",
              "        <script charset=\"utf-8\" src=\"https://cdn.plot.ly/plotly-2.35.2.min.js\"></script>                <div id=\"e469ba76-27ea-4a88-890e-8424ceed72b1\" class=\"plotly-graph-div\" style=\"height:525px; width:100%;\"></div>            <script type=\"text/javascript\">                                    window.PLOTLYENV=window.PLOTLYENV || {};                                    if (document.getElementById(\"e469ba76-27ea-4a88-890e-8424ceed72b1\")) {                    Plotly.newPlot(                        \"e469ba76-27ea-4a88-890e-8424ceed72b1\",                        [{\"hovertemplate\":\"Date=%{x}\\u003cbr\\u003eAdj Close=%{y}\\u003cextra\\u003e\\u003c\\u002fextra\\u003e\",\"legendgroup\":\"\",\"line\":{\"color\":\"#636efa\",\"dash\":\"solid\"},\"marker\":{\"symbol\":\"circle\"},\"mode\":\"lines\",\"name\":\"\",\"orientation\":\"v\",\"showlegend\":false,\"x\":[\"1985-01-02T00:00:00\",\"1985-01-03T00:00:00\",\"1985-01-04T00:00:00\",\"1985-01-07T00:00:00\",\"1985-01-08T00:00:00\",\"1985-01-09T00:00:00\",\"1985-01-10T00:00:00\",\"1985-01-11T00:00:00\",\"1985-01-14T00:00:00\",\"1985-01-15T00:00:00\",\"1985-01-16T00:00:00\",\"1985-01-17T00:00:00\",\"1985-01-18T00:00:00\",\"1985-01-21T00:00:00\",\"1985-01-22T00:00:00\",\"1985-01-23T00:00:00\",\"1985-01-24T00:00:00\",\"1985-01-25T00:00:00\",\"1985-01-28T00:00:00\",\"1985-01-29T00:00:00\",\"1985-01-30T00:00:00\",\"1985-01-31T00:00:00\",\"1985-02-01T00:00:00\",\"1985-02-04T00:00:00\",\"1985-02-05T00:00:00\",\"1985-02-06T00:00:00\",\"1985-02-07T00:00:00\",\"1985-02-08T00:00:00\",\"1985-02-11T00:00:00\",\"1985-02-12T00:00:00\",\"1985-02-13T00:00:00\",\"1985-02-14T00:00:00\",\"1985-02-15T00:00:00\",\"1985-02-19T00:00:00\",\"1985-02-20T00:00:00\",\"1985-02-21T00:00:00\",\"1985-02-22T00:00:00\",\"1985-02-25T00:00:00\",\"1985-02-26T00:00:00\",\"1985-02-27T00:00:00\",\"1985-02-28T00:00:00\",\"1985-03-01T00:00:00\",\"1985-03-04T00:00:00\",\"1985-03-05T00:00:00\",\"1985-03-06T00:00:00\",\"1985-03-07T00:00:00\",\"1985-03-08T00:00:00\",\"1985-03-11T00:00:00\",\"1985-03-12T00:00:00\",\"1985-03-13T00:00:00\",\"1985-03-14T00:00:00\",\"1985-03-15T00:00:00\",\"1985-03-18T00:00:00\",\"1985-03-19T00:00:00\",\"1985-03-20T00:00:00\",\"1985-03-21T00:00:00\",\"1985-03-22T00:00:00\",\"1985-03-25T00:00:00\",\"1985-03-26T00:00:00\",\"1985-03-27T00:00:00\",\"1985-03-28T00:00:00\",\"1985-03-29T00:00:00\",\"1985-04-01T00:00:00\",\"1985-04-02T00:00:00\",\"1985-04-03T00:00:00\",\"1985-04-04T00:00:00\",\"1985-04-08T00:00:00\",\"1985-04-09T00:00:00\",\"1985-04-10T00:00:00\",\"1985-04-11T00:00:00\",\"1985-04-12T00:00:00\",\"1985-04-15T00:00:00\",\"1985-04-16T00:00:00\",\"1985-04-17T00:00:00\",\"1985-04-18T00:00:00\",\"1985-04-19T00:00:00\",\"1985-04-22T00:00:00\",\"1985-04-23T00:00:00\",\"1985-04-24T00:00:00\",\"1985-04-25T00:00:00\",\"1985-04-26T00:00:00\",\"1985-04-29T00:00:00\",\"1985-04-30T00:00:00\",\"1985-05-01T00:00:00\",\"1985-05-02T00:00:00\",\"1985-05-03T00:00:00\",\"1985-05-06T00:00:00\",\"1985-05-07T00:00:00\",\"1985-05-08T00:00:00\",\"1985-05-09T00:00:00\",\"1985-05-10T00:00:00\",\"1985-05-13T00:00:00\",\"1985-05-14T00:00:00\",\"1985-05-15T00:00:00\",\"1985-05-16T00:00:00\",\"1985-05-17T00:00:00\",\"1985-05-20T00:00:00\",\"1985-05-21T00:00:00\",\"1985-05-22T00:00:00\",\"1985-05-23T00:00:00\",\"1985-05-24T00:00:00\",\"1985-05-28T00:00:00\",\"1985-05-29T00:00:00\",\"1985-05-30T00:00:00\",\"1985-05-31T00:00:00\",\"1985-06-03T00:00:00\",\"1985-06-04T00:00:00\",\"1985-06-05T00:00:00\",\"1985-06-06T00:00:00\",\"1985-06-07T00:00:00\",\"1985-06-10T00:00:00\",\"1985-06-11T00:00:00\",\"1985-06-12T00:00:00\",\"1985-06-13T00:00:00\",\"1985-06-14T00:00:00\",\"1985-06-17T00:00:00\",\"1985-06-18T00:00:00\",\"1985-06-19T00:00:00\",\"1985-06-20T00:00:00\",\"1985-06-21T00:00:00\",\"1985-06-24T00:00:00\",\"1985-06-25T00:00:00\",\"1985-06-26T00:00:00\",\"1985-06-27T00:00:00\",\"1985-06-28T00:00:00\",\"1985-07-01T00:00:00\",\"1985-07-02T00:00:00\",\"1985-07-03T00:00:00\",\"1985-07-05T00:00:00\",\"1985-07-08T00:00:00\",\"1985-07-09T00:00:00\",\"1985-07-10T00:00:00\",\"1985-07-11T00:00:00\",\"1985-07-12T00:00:00\",\"1985-07-15T00:00:00\",\"1985-07-16T00:00:00\",\"1985-07-17T00:00:00\",\"1985-07-18T00:00:00\",\"1985-07-19T00:00:00\",\"1985-07-22T00:00:00\",\"1985-07-23T00:00:00\",\"1985-07-24T00:00:00\",\"1985-07-25T00:00:00\",\"1985-07-26T00:00:00\",\"1985-07-29T00:00:00\",\"1985-07-30T00:00:00\",\"1985-07-31T00:00:00\",\"1985-08-01T00:00:00\",\"1985-08-02T00:00:00\",\"1985-08-05T00:00:00\",\"1985-08-06T00:00:00\",\"1985-08-07T00:00:00\",\"1985-08-08T00:00:00\",\"1985-08-09T00:00:00\",\"1985-08-12T00:00:00\",\"1985-08-13T00:00:00\",\"1985-08-14T00:00:00\",\"1985-08-15T00:00:00\",\"1985-08-16T00:00:00\",\"1985-08-19T00:00:00\",\"1985-08-20T00:00:00\",\"1985-08-21T00:00:00\",\"1985-08-22T00:00:00\",\"1985-08-23T00:00:00\",\"1985-08-26T00:00:00\",\"1985-08-27T00:00:00\",\"1985-08-28T00:00:00\",\"1985-08-29T00:00:00\",\"1985-08-30T00:00:00\",\"1985-09-03T00:00:00\",\"1985-09-04T00:00:00\",\"1985-09-05T00:00:00\",\"1985-09-06T00:00:00\",\"1985-09-09T00:00:00\",\"1985-09-10T00:00:00\",\"1985-09-11T00:00:00\",\"1985-09-12T00:00:00\",\"1985-09-13T00:00:00\",\"1985-09-16T00:00:00\",\"1985-09-17T00:00:00\",\"1985-09-18T00:00:00\",\"1985-09-19T00:00:00\",\"1985-09-20T00:00:00\",\"1985-09-23T00:00:00\",\"1985-09-24T00:00:00\",\"1985-09-25T00:00:00\",\"1985-09-26T00:00:00\",\"1985-09-30T00:00:00\",\"1985-10-01T00:00:00\",\"1985-10-02T00:00:00\",\"1985-10-03T00:00:00\",\"1985-10-04T00:00:00\",\"1985-10-07T00:00:00\",\"1985-10-08T00:00:00\",\"1985-10-09T00:00:00\",\"1985-10-10T00:00:00\",\"1985-10-11T00:00:00\",\"1985-10-14T00:00:00\",\"1985-10-15T00:00:00\",\"1985-10-16T00:00:00\",\"1985-10-17T00:00:00\",\"1985-10-18T00:00:00\",\"1985-10-21T00:00:00\",\"1985-10-22T00:00:00\",\"1985-10-23T00:00:00\",\"1985-10-24T00:00:00\",\"1985-10-25T00:00:00\",\"1985-10-28T00:00:00\",\"1985-10-29T00:00:00\",\"1985-10-30T00:00:00\",\"1985-10-31T00:00:00\",\"1985-11-01T00:00:00\",\"1985-11-04T00:00:00\",\"1985-11-05T00:00:00\",\"1985-11-06T00:00:00\",\"1985-11-07T00:00:00\",\"1985-11-08T00:00:00\",\"1985-11-11T00:00:00\",\"1985-11-12T00:00:00\",\"1985-11-13T00:00:00\",\"1985-11-14T00:00:00\",\"1985-11-15T00:00:00\",\"1985-11-18T00:00:00\",\"1985-11-19T00:00:00\",\"1985-11-20T00:00:00\",\"1985-11-21T00:00:00\",\"1985-11-22T00:00:00\",\"1985-11-25T00:00:00\",\"1985-11-26T00:00:00\",\"1985-11-27T00:00:00\",\"1985-11-29T00:00:00\",\"1985-12-02T00:00:00\",\"1985-12-03T00:00:00\",\"1985-12-04T00:00:00\",\"1985-12-05T00:00:00\",\"1985-12-06T00:00:00\",\"1985-12-09T00:00:00\",\"1985-12-10T00:00:00\",\"1985-12-11T00:00:00\",\"1985-12-12T00:00:00\",\"1985-12-13T00:00:00\",\"1985-12-16T00:00:00\",\"1985-12-17T00:00:00\",\"1985-12-18T00:00:00\",\"1985-12-19T00:00:00\",\"1985-12-20T00:00:00\",\"1985-12-23T00:00:00\",\"1985-12-24T00:00:00\",\"1985-12-26T00:00:00\",\"1985-12-27T00:00:00\",\"1985-12-30T00:00:00\",\"1985-12-31T00:00:00\"],\"xaxis\":\"x\",\"y\":[0.09713,0.098872,0.098872,0.098436,0.097565,0.100178,0.104535,0.103663,0.106712,0.104535,0.105406,0.098001,0.099743,0.101921,0.10497,0.103227,0.10105,0.103227,0.105406,0.104099,0.104099,0.10105,0.099743,0.101921,0.102792,0.104535,0.104099,0.104099,0.106277,0.103663,0.098872,0.096259,0.097565,0.096259,0.091903,0.093645,0.096259,0.094952,0.09321,0.087547,0.086241,0.086676,0.087983,0.09016,0.085805,0.077094,0.074916,0.077529,0.080143,0.075787,0.075787,0.078836,0.079708,0.076658,0.077529,0.078836,0.077529,0.075352,0.0784,0.076223,0.076223,0.077094,0.075352,0.073174,0.073174,0.072738,0.068383,0.068383,0.073174,0.074481,0.072738,0.074481,0.075352,0.078836,0.079708,0.0784,0.075352,0.077094,0.076658,0.076658,0.076223,0.073609,0.074045,0.072738,0.067077,0.06969,0.068819,0.06969,0.069254,0.06969,0.070561,0.06969,0.068819,0.06969,0.074481,0.075787,0.074481,0.072303,0.071867,0.068819,0.063156,0.058801,0.059672,0.061414,0.060543,0.055752,0.060107,0.058801,0.059236,0.057059,0.056187,0.056187,0.054881,0.051831,0.051396,0.051831,0.053138,0.054445,0.054881,0.056187,0.060107,0.060978,0.063156,0.064027,0.06272,0.063156,0.060107,0.060978,0.061414,0.061414,0.061414,0.06272,0.06272,0.062285,0.061849,0.060978,0.061414,0.060107,0.060543,0.058801,0.057494,0.056623,0.05793,0.05793,0.055752,0.056623,0.055316,0.055316,0.054881,0.053573,0.053138,0.051831,0.052702,0.053138,0.052267,0.053138,0.05096,0.050525,0.05096,0.052267,0.053138,0.053138,0.051831,0.051396,0.052702,0.053138,0.053138,0.051831,0.052267,0.051396,0.051831,0.051831,0.052267,0.053138,0.053573,0.054009,0.056187,0.054881,0.053138,0.053138,0.056623,0.059236,0.058365,0.058801,0.057494,0.055316,0.055316,0.054881,0.054881,0.054445,0.054009,0.052267,0.052267,0.052702,0.052267,0.055316,0.055752,0.05793,0.059236,0.06272,0.063591,0.061849,0.060107,0.06272,0.06272,0.064027,0.06272,0.06272,0.062285,0.066205,0.064898,0.064898,0.065334,0.064898,0.067077,0.068383,0.071432,0.06969,0.069254,0.067512,0.06969,0.069254,0.069254,0.067077,0.066205,0.066205,0.066205,0.06664,0.067512,0.06969,0.070125,0.070561,0.070125,0.071432,0.070125,0.068819,0.067512,0.067948,0.068819,0.06969,0.06969,0.072738,0.071867,0.077529,0.0784,0.077965,0.076223,0.075787,0.075787,0.077965,0.077529,0.076658],\"yaxis\":\"y\",\"type\":\"scatter\"}],                        {\"template\":{\"data\":{\"histogram2dcontour\":[{\"type\":\"histogram2dcontour\",\"colorbar\":{\"outlinewidth\":0,\"ticks\":\"\"},\"colorscale\":[[0.0,\"#0d0887\"],[0.1111111111111111,\"#46039f\"],[0.2222222222222222,\"#7201a8\"],[0.3333333333333333,\"#9c179e\"],[0.4444444444444444,\"#bd3786\"],[0.5555555555555556,\"#d8576b\"],[0.6666666666666666,\"#ed7953\"],[0.7777777777777778,\"#fb9f3a\"],[0.8888888888888888,\"#fdca26\"],[1.0,\"#f0f921\"]]}],\"choropleth\":[{\"type\":\"choropleth\",\"colorbar\":{\"outlinewidth\":0,\"ticks\":\"\"}}],\"histogram2d\":[{\"type\":\"histogram2d\",\"colorbar\":{\"outlinewidth\":0,\"ticks\":\"\"},\"colorscale\":[[0.0,\"#0d0887\"],[0.1111111111111111,\"#46039f\"],[0.2222222222222222,\"#7201a8\"],[0.3333333333333333,\"#9c179e\"],[0.4444444444444444,\"#bd3786\"],[0.5555555555555556,\"#d8576b\"],[0.6666666666666666,\"#ed7953\"],[0.7777777777777778,\"#fb9f3a\"],[0.8888888888888888,\"#fdca26\"],[1.0,\"#f0f921\"]]}],\"heatmap\":[{\"type\":\"heatmap\",\"colorbar\":{\"outlinewidth\":0,\"ticks\":\"\"},\"colorscale\":[[0.0,\"#0d0887\"],[0.1111111111111111,\"#46039f\"],[0.2222222222222222,\"#7201a8\"],[0.3333333333333333,\"#9c179e\"],[0.4444444444444444,\"#bd3786\"],[0.5555555555555556,\"#d8576b\"],[0.6666666666666666,\"#ed7953\"],[0.7777777777777778,\"#fb9f3a\"],[0.8888888888888888,\"#fdca26\"],[1.0,\"#f0f921\"]]}],\"heatmapgl\":[{\"type\":\"heatmapgl\",\"colorbar\":{\"outlinewidth\":0,\"ticks\":\"\"},\"colorscale\":[[0.0,\"#0d0887\"],[0.1111111111111111,\"#46039f\"],[0.2222222222222222,\"#7201a8\"],[0.3333333333333333,\"#9c179e\"],[0.4444444444444444,\"#bd3786\"],[0.5555555555555556,\"#d8576b\"],[0.6666666666666666,\"#ed7953\"],[0.7777777777777778,\"#fb9f3a\"],[0.8888888888888888,\"#fdca26\"],[1.0,\"#f0f921\"]]}],\"contourcarpet\":[{\"type\":\"contourcarpet\",\"colorbar\":{\"outlinewidth\":0,\"ticks\":\"\"}}],\"contour\":[{\"type\":\"contour\",\"colorbar\":{\"outlinewidth\":0,\"ticks\":\"\"},\"colorscale\":[[0.0,\"#0d0887\"],[0.1111111111111111,\"#46039f\"],[0.2222222222222222,\"#7201a8\"],[0.3333333333333333,\"#9c179e\"],[0.4444444444444444,\"#bd3786\"],[0.5555555555555556,\"#d8576b\"],[0.6666666666666666,\"#ed7953\"],[0.7777777777777778,\"#fb9f3a\"],[0.8888888888888888,\"#fdca26\"],[1.0,\"#f0f921\"]]}],\"surface\":[{\"type\":\"surface\",\"colorbar\":{\"outlinewidth\":0,\"ticks\":\"\"},\"colorscale\":[[0.0,\"#0d0887\"],[0.1111111111111111,\"#46039f\"],[0.2222222222222222,\"#7201a8\"],[0.3333333333333333,\"#9c179e\"],[0.4444444444444444,\"#bd3786\"],[0.5555555555555556,\"#d8576b\"],[0.6666666666666666,\"#ed7953\"],[0.7777777777777778,\"#fb9f3a\"],[0.8888888888888888,\"#fdca26\"],[1.0,\"#f0f921\"]]}],\"mesh3d\":[{\"type\":\"mesh3d\",\"colorbar\":{\"outlinewidth\":0,\"ticks\":\"\"}}],\"scatter\":[{\"fillpattern\":{\"fillmode\":\"overlay\",\"size\":10,\"solidity\":0.2},\"type\":\"scatter\"}],\"parcoords\":[{\"type\":\"parcoords\",\"line\":{\"colorbar\":{\"outlinewidth\":0,\"ticks\":\"\"}}}],\"scatterpolargl\":[{\"type\":\"scatterpolargl\",\"marker\":{\"colorbar\":{\"outlinewidth\":0,\"ticks\":\"\"}}}],\"bar\":[{\"error_x\":{\"color\":\"#2a3f5f\"},\"error_y\":{\"color\":\"#2a3f5f\"},\"marker\":{\"line\":{\"color\":\"#E5ECF6\",\"width\":0.5},\"pattern\":{\"fillmode\":\"overlay\",\"size\":10,\"solidity\":0.2}},\"type\":\"bar\"}],\"scattergeo\":[{\"type\":\"scattergeo\",\"marker\":{\"colorbar\":{\"outlinewidth\":0,\"ticks\":\"\"}}}],\"scatterpolar\":[{\"type\":\"scatterpolar\",\"marker\":{\"colorbar\":{\"outlinewidth\":0,\"ticks\":\"\"}}}],\"histogram\":[{\"marker\":{\"pattern\":{\"fillmode\":\"overlay\",\"size\":10,\"solidity\":0.2}},\"type\":\"histogram\"}],\"scattergl\":[{\"type\":\"scattergl\",\"marker\":{\"colorbar\":{\"outlinewidth\":0,\"ticks\":\"\"}}}],\"scatter3d\":[{\"type\":\"scatter3d\",\"line\":{\"colorbar\":{\"outlinewidth\":0,\"ticks\":\"\"}},\"marker\":{\"colorbar\":{\"outlinewidth\":0,\"ticks\":\"\"}}}],\"scattermapbox\":[{\"type\":\"scattermapbox\",\"marker\":{\"colorbar\":{\"outlinewidth\":0,\"ticks\":\"\"}}}],\"scatterternary\":[{\"type\":\"scatterternary\",\"marker\":{\"colorbar\":{\"outlinewidth\":0,\"ticks\":\"\"}}}],\"scattercarpet\":[{\"type\":\"scattercarpet\",\"marker\":{\"colorbar\":{\"outlinewidth\":0,\"ticks\":\"\"}}}],\"carpet\":[{\"aaxis\":{\"endlinecolor\":\"#2a3f5f\",\"gridcolor\":\"white\",\"linecolor\":\"white\",\"minorgridcolor\":\"white\",\"startlinecolor\":\"#2a3f5f\"},\"baxis\":{\"endlinecolor\":\"#2a3f5f\",\"gridcolor\":\"white\",\"linecolor\":\"white\",\"minorgridcolor\":\"white\",\"startlinecolor\":\"#2a3f5f\"},\"type\":\"carpet\"}],\"table\":[{\"cells\":{\"fill\":{\"color\":\"#EBF0F8\"},\"line\":{\"color\":\"white\"}},\"header\":{\"fill\":{\"color\":\"#C8D4E3\"},\"line\":{\"color\":\"white\"}},\"type\":\"table\"}],\"barpolar\":[{\"marker\":{\"line\":{\"color\":\"#E5ECF6\",\"width\":0.5},\"pattern\":{\"fillmode\":\"overlay\",\"size\":10,\"solidity\":0.2}},\"type\":\"barpolar\"}],\"pie\":[{\"automargin\":true,\"type\":\"pie\"}]},\"layout\":{\"autotypenumbers\":\"strict\",\"colorway\":[\"#636efa\",\"#EF553B\",\"#00cc96\",\"#ab63fa\",\"#FFA15A\",\"#19d3f3\",\"#FF6692\",\"#B6E880\",\"#FF97FF\",\"#FECB52\"],\"font\":{\"color\":\"#2a3f5f\"},\"hovermode\":\"closest\",\"hoverlabel\":{\"align\":\"left\"},\"paper_bgcolor\":\"white\",\"plot_bgcolor\":\"#E5ECF6\",\"polar\":{\"bgcolor\":\"#E5ECF6\",\"angularaxis\":{\"gridcolor\":\"white\",\"linecolor\":\"white\",\"ticks\":\"\"},\"radialaxis\":{\"gridcolor\":\"white\",\"linecolor\":\"white\",\"ticks\":\"\"}},\"ternary\":{\"bgcolor\":\"#E5ECF6\",\"aaxis\":{\"gridcolor\":\"white\",\"linecolor\":\"white\",\"ticks\":\"\"},\"baxis\":{\"gridcolor\":\"white\",\"linecolor\":\"white\",\"ticks\":\"\"},\"caxis\":{\"gridcolor\":\"white\",\"linecolor\":\"white\",\"ticks\":\"\"}},\"coloraxis\":{\"colorbar\":{\"outlinewidth\":0,\"ticks\":\"\"}},\"colorscale\":{\"sequential\":[[0.0,\"#0d0887\"],[0.1111111111111111,\"#46039f\"],[0.2222222222222222,\"#7201a8\"],[0.3333333333333333,\"#9c179e\"],[0.4444444444444444,\"#bd3786\"],[0.5555555555555556,\"#d8576b\"],[0.6666666666666666,\"#ed7953\"],[0.7777777777777778,\"#fb9f3a\"],[0.8888888888888888,\"#fdca26\"],[1.0,\"#f0f921\"]],\"sequentialminus\":[[0.0,\"#0d0887\"],[0.1111111111111111,\"#46039f\"],[0.2222222222222222,\"#7201a8\"],[0.3333333333333333,\"#9c179e\"],[0.4444444444444444,\"#bd3786\"],[0.5555555555555556,\"#d8576b\"],[0.6666666666666666,\"#ed7953\"],[0.7777777777777778,\"#fb9f3a\"],[0.8888888888888888,\"#fdca26\"],[1.0,\"#f0f921\"]],\"diverging\":[[0,\"#8e0152\"],[0.1,\"#c51b7d\"],[0.2,\"#de77ae\"],[0.3,\"#f1b6da\"],[0.4,\"#fde0ef\"],[0.5,\"#f7f7f7\"],[0.6,\"#e6f5d0\"],[0.7,\"#b8e186\"],[0.8,\"#7fbc41\"],[0.9,\"#4d9221\"],[1,\"#276419\"]]},\"xaxis\":{\"gridcolor\":\"white\",\"linecolor\":\"white\",\"ticks\":\"\",\"title\":{\"standoff\":15},\"zerolinecolor\":\"white\",\"automargin\":true,\"zerolinewidth\":2},\"yaxis\":{\"gridcolor\":\"white\",\"linecolor\":\"white\",\"ticks\":\"\",\"title\":{\"standoff\":15},\"zerolinecolor\":\"white\",\"automargin\":true,\"zerolinewidth\":2},\"scene\":{\"xaxis\":{\"backgroundcolor\":\"#E5ECF6\",\"gridcolor\":\"white\",\"linecolor\":\"white\",\"showbackground\":true,\"ticks\":\"\",\"zerolinecolor\":\"white\",\"gridwidth\":2},\"yaxis\":{\"backgroundcolor\":\"#E5ECF6\",\"gridcolor\":\"white\",\"linecolor\":\"white\",\"showbackground\":true,\"ticks\":\"\",\"zerolinecolor\":\"white\",\"gridwidth\":2},\"zaxis\":{\"backgroundcolor\":\"#E5ECF6\",\"gridcolor\":\"white\",\"linecolor\":\"white\",\"showbackground\":true,\"ticks\":\"\",\"zerolinecolor\":\"white\",\"gridwidth\":2}},\"shapedefaults\":{\"line\":{\"color\":\"#2a3f5f\"}},\"annotationdefaults\":{\"arrowcolor\":\"#2a3f5f\",\"arrowhead\":0,\"arrowwidth\":1},\"geo\":{\"bgcolor\":\"white\",\"landcolor\":\"#E5ECF6\",\"subunitcolor\":\"white\",\"showland\":true,\"showlakes\":true,\"lakecolor\":\"white\"},\"title\":{\"x\":0.05},\"mapbox\":{\"style\":\"light\"}}},\"xaxis\":{\"anchor\":\"y\",\"domain\":[0.0,1.0],\"title\":{\"text\":\"Date\"},\"rangeslider\":{\"visible\":true,\"thickness\":0.1,\"bgcolor\":\"lightblue\",\"bordercolor\":\"darkblue\",\"borderwidth\":1},\"rangeselector\":{\"buttons\":[{\"count\":1,\"label\":\"1m\",\"step\":\"month\",\"stepmode\":\"backward\"},{\"count\":6,\"label\":\"6m\",\"step\":\"month\",\"stepmode\":\"backward\"},{\"count\":1,\"label\":\"YTD\",\"step\":\"year\",\"stepmode\":\"todate\"},{\"count\":1,\"label\":\"1y\",\"step\":\"year\",\"stepmode\":\"backward\"},{\"step\":\"all\"}]},\"tickformat\":\"%b %Y\"},\"yaxis\":{\"anchor\":\"x\",\"domain\":[0.0,1.0],\"title\":{\"text\":\"Adj Close\"}},\"legend\":{\"tracegroupgap\":0},\"title\":{\"text\":\"Apple Stock Price Over Time\",\"x\":0.5},\"hovermode\":\"x unified\"},                        {\"responsive\": true}                    ).then(function(){\n",
              "                            \n",
              "var gd = document.getElementById('e469ba76-27ea-4a88-890e-8424ceed72b1');\n",
              "var x = new MutationObserver(function (mutations, observer) {{\n",
              "        var display = window.getComputedStyle(gd).display;\n",
              "        if (!display || display === 'none') {{\n",
              "            console.log([gd, 'removed!']);\n",
              "            Plotly.purge(gd);\n",
              "            observer.disconnect();\n",
              "        }}\n",
              "}});\n",
              "\n",
              "// Listen for the removal of the full notebook cells\n",
              "var notebookContainer = gd.closest('#notebook-container');\n",
              "if (notebookContainer) {{\n",
              "    x.observe(notebookContainer, {childList: true});\n",
              "}}\n",
              "\n",
              "// Listen for the clearing of the current output cell\n",
              "var outputEl = gd.closest('.output');\n",
              "if (outputEl) {{\n",
              "    x.observe(outputEl, {childList: true});\n",
              "}}\n",
              "\n",
              "                        })                };                            </script>        </div>\n",
              "</body>\n",
              "</html>"
            ]
          },
          "metadata": {}
        }
      ],
      "source": [
        "# Mengonversi kolom 'date' menjadi format datetime\n",
        "df['Date'] = pd.to_datetime(df['Date'])\n",
        "\n",
        "# Membuat grafik interaktif\n",
        "fig = px.line(df, x='Date', y='Adj Close', title='Apple Stock Price Over Time', labels={'Date': 'Date', 'Adj Close': 'Adj Close'})\n",
        "\n",
        "# Menambah kostumisasi slider dan sumbu-x\n",
        "fig.update_xaxes(\n",
        "    rangeslider_visible=True,\n",
        "    rangeslider_thickness=0.1,  # Ketebalan slider\n",
        "    rangeselector=dict(\n",
        "        buttons=list([\n",
        "            dict(count=1, label=\"1m\", step=\"month\", stepmode=\"backward\"),\n",
        "            dict(count=6, label=\"6m\", step=\"month\", stepmode=\"backward\"),\n",
        "            dict(count=1, label=\"YTD\", step=\"year\", stepmode=\"todate\"),\n",
        "            dict(count=1, label=\"1y\", step=\"year\", stepmode=\"backward\"),\n",
        "            dict(step=\"all\")\n",
        "        ])\n",
        "    ),\n",
        "    tickformat=\"%b %Y\"  # Format tanggal yang lebih singkat\n",
        ")\n",
        "\n",
        "# Memusatkan judul dan mengatur hovermode\n",
        "fig.update_layout(\n",
        "    title='Apple Stock Price Over Time',\n",
        "    title_x=0.5,\n",
        "    hovermode=\"x unified\"  # Menampilkan tooltip secara komprehensif saat hover\n",
        ")\n",
        "\n",
        "# Mengatur warna latar belakang slider dan warna garisnya\n",
        "fig.update_xaxes(\n",
        "    rangeslider_bgcolor=\"lightblue\",\n",
        "    rangeslider_bordercolor=\"darkblue\",\n",
        "    rangeslider_borderwidth=1\n",
        ")\n",
        "\n",
        "# Menampilkan grafik\n",
        "fig.show()"
      ]
    },
    {
      "cell_type": "markdown",
      "source": [
        "Berdasarkan dari grafik harga saham Apple (1990-2020), pola data yang diperoleh menunjukkan tren naik. Pada periode 1990-2000 harga saham cenderung datar, kemudian periode 2000-2010 mulai menunjukkan pertumbuhan lambat, dan pada periode 2010-2020 mengalami kenaikan yang sangat tinggi.\n"
      ],
      "metadata": {
        "id": "feZVSVaucmc3"
      }
    },
    {
      "cell_type": "markdown",
      "metadata": {
        "id": "AM1DqrzoeypJ"
      },
      "source": [
        "# **Box Cox**"
      ]
    },
    {
      "cell_type": "markdown",
      "metadata": {
        "id": "FqtDMfBQw-e3"
      },
      "source": [
        "\n",
        "\n",
        "> Memeriksa Kestasioneran Data Terhadap Variansi menggunakan Box-Cox\n",
        "\n",
        "\n",
        "\n",
        "\n",
        "\n"
      ]
    },
    {
      "cell_type": "code",
      "execution_count": null,
      "metadata": {
        "id": "y9kAGvndyriK"
      },
      "outputs": [],
      "source": [
        "from scipy.stats import boxcox\n",
        "from scipy import stats"
      ]
    },
    {
      "cell_type": "code",
      "execution_count": null,
      "metadata": {
        "colab": {
          "base_uri": "https://localhost:8080/",
          "height": 581
        },
        "id": "Kb4m8SKFyDEG",
        "outputId": "324d8a67-04a2-426b-acb0-97100328c58d"
      },
      "outputs": [
        {
          "output_type": "display_data",
          "data": {
            "text/plain": [
              "<Figure size 1000x600 with 1 Axes>"
            ],
            "image/png": "[encoded data removed]"
          },
          "metadata": {}
        },
        {
          "output_type": "stream",
          "name": "stdout",
          "text": [
            "Optimal lambda: -1.319469487558577\n"
          ]
        }
      ],
      "source": [
        "Adjclose_prices = df['Adj Close']\n",
        "Adjclose_prices = Adjclose_prices[Adjclose_prices > 0]\n",
        "\n",
        "# Terapkan transformasi Box-Cox\n",
        "transformed_data, lambda_value = stats.boxcox(Adjclose_prices)\n",
        "\n",
        "# Plot data setelah transformasi Box-Cox\n",
        "plt.figure(figsize=(10, 6))\n",
        "plt.plot(transformed_data)\n",
        "plt.title('Box-Cox Transformed Apple Stock Adj Close Price')\n",
        "plt.xlabel('Date')\n",
        "plt.ylabel('Transformed Adj Close Price')\n",
        "plt.show()\n",
        "\n",
        "# Menampilkan nilai lambda\n",
        "print(\"Optimal lambda:\", lambda_value)"
      ]
    },
    {
      "cell_type": "markdown",
      "source": [
        "Kode ini bertujuan untuk menormalkan data harga penutupan Bitcoin dengan transformasi Box-Cox, yang mengurangi skewness agar data mendekati distribusi normal. Langkah-langkahnya meliputi:\n",
        "1.   Filter Data: Memastikan hanya nilai positif untuk transformasi.\n",
        "2.   Transformasi Box-Cox: Mengubah data agar lebih normal dengan parameter optimal lambda.\n",
        "3. Visualisasi: Menampilkan pola data setelah transformasi.\n",
        "4. Nilai Lambda: Menunjukkan parameter transformasi yang digunakan.\n",
        "\n",
        "Transformasi ini penting untuk analisis statistik atau model prediktif agar lebih akurat."
      ],
      "metadata": {
        "id": "8zXlUZJZZTjQ"
      }
    },
    {
      "cell_type": "markdown",
      "metadata": {
        "id": "KxeUXaw7zg-c"
      },
      "source": [
        "\n",
        "\n",
        "> Melakukan Transformasi\n",
        "\n"
      ]
    },
    {
      "cell_type": "code",
      "source": [
        "from scipy.stats import boxcox\n",
        "\n",
        "# Pastikan data positif\n",
        "Adjclose_prices = df['Adj Close'] + 1e-6  # Menambahkan offset kecil untuk menghindari nilai nol\n",
        "\n",
        "# Transformasi Box-Cox\n",
        "Adjclose_boxcox, lambda_val = boxcox(Adjclose_prices)\n",
        "\n",
        "# Box-Cox transform dengan indeks tetap\n",
        "Adjclose_boxcox = pd.Series(boxcox(Adjclose_prices)[0], index=Adjclose_prices.index)\n",
        "\n",
        "print(f\"Lambda Box-Cox: {lambda_val}\")\n",
        "\n",
        "# Plot data setelah transformasi\n",
        "plt.figure(figsize=(10, 6))\n",
        "plt.plot(Adjclose_boxcox, label='Box-Cox Transformed')\n",
        "plt.title('Adj Close Prices After Box-Cox Transformation')\n",
        "plt.xlabel('Date')\n",
        "plt.ylabel('Transformed Value')\n",
        "plt.legend()\n",
        "plt.show()"
      ],
      "metadata": {
        "colab": {
          "base_uri": "https://localhost:8080/",
          "height": 581
        },
        "id": "Dss-HIG5m8GI",
        "outputId": "2ed06eef-cea9-4fce-8fc9-a50468994cf7"
      },
      "execution_count": null,
      "outputs": [
        {
          "output_type": "stream",
          "name": "stdout",
          "text": [
            "Lambda Box-Cox: -1.3194995857789027\n"
          ]
        },
        {
          "output_type": "display_data",
          "data": {
            "text/plain": [
              "<Figure size 1000x600 with 1 Axes>"
            ],
            "image/png": "[encoded data removed]"
          },
          "metadata": {}
        }
      ]
    },
    {
      "cell_type": "markdown",
      "source": [
        "Kode ini bertujuan untuk mengaplikasikan nilai lambda optimal dari transformasi Box-Cox pada kolom Adj Close, kemudian memvisualisasikan hasilnya. Langkah ini mempermudah analisis data yang lebih mendekati distribusi normal, sehingga lebih sesuai untuk analisis statistik atau prediksi."
      ],
      "metadata": {
        "id": "dwYkA7NToMHU"
      }
    },
    {
      "cell_type": "markdown",
      "metadata": {
        "id": "f-oQpXDxe1Bw"
      },
      "source": [
        "# **Uji ADF & Differencing**"
      ]
    },
    {
      "cell_type": "markdown",
      "metadata": {
        "id": "B41yzGJee3Gu"
      },
      "source": [
        "Dilakukan uji ADF untuk mengecek ke stasioneran data"
      ]
    },
    {
      "cell_type": "code",
      "execution_count": null,
      "metadata": {
        "colab": {
          "base_uri": "https://localhost:8080/",
          "height": 252
        },
        "id": "C_QdHv9VfiIB",
        "outputId": "95ebb158-8daa-4dcb-de42-2802ffe4787f"
      },
      "outputs": [
        {
          "output_type": "stream",
          "name": "stdout",
          "text": [
            "Uji ADF pada data asli (tanpa differencing):\n"
          ]
        },
        {
          "output_type": "execute_result",
          "data": {
            "text/plain": [
              "               Metric            Value\n",
              "0       ADF Statistic        -1.678405\n",
              "1             p-value         0.442272\n",
              "2   1% Critical Value        -3.457105\n",
              "3   5% Critical Value        -2.873314\n",
              "4  10% Critical Value        -2.573044\n",
              "5        Stationarity  Tidak Stasioner"
            ],
            "text/html": [
              "\n",
              "  <div id=\"df-c443aa07-99cb-40f0-ac91-b4fcb99e03cd\" class=\"colab-df-container\">\n",
              "    <div>\n",
              "<style scoped>\n",
              "    .dataframe tbody tr th:only-of-type {\n",
              "        vertical-align: middle;\n",
              "    }\n",
              "\n",
              "    .dataframe tbody tr th {\n",
              "        vertical-align: top;\n",
              "    }\n",
              "\n",
              "    .dataframe thead th {\n",
              "        text-align: right;\n",
              "    }\n",
              "</style>\n",
              "<table border=\"1\" class=\"dataframe\">\n",
              "  <thead>\n",
              "    <tr style=\"text-align: right;\">\n",
              "      <th></th>\n",
              "      <th>Metric</th>\n",
              "      <th>Value</th>\n",
              "    </tr>\n",
              "  </thead>\n",
              "  <tbody>\n",
              "    <tr>\n",
              "      <th>0</th>\n",
              "      <td>ADF Statistic</td>\n",
              "      <td>-1.678405</td>\n",
              "    </tr>\n",
              "    <tr>\n",
              "      <th>1</th>\n",
              "      <td>p-value</td>\n",
              "      <td>0.442272</td>\n",
              "    </tr>\n",
              "    <tr>\n",
              "      <th>2</th>\n",
              "      <td>1% Critical Value</td>\n",
              "      <td>-3.457105</td>\n",
              "    </tr>\n",
              "    <tr>\n",
              "      <th>3</th>\n",
              "      <td>5% Critical Value</td>\n",
              "      <td>-2.873314</td>\n",
              "    </tr>\n",
              "    <tr>\n",
              "      <th>4</th>\n",
              "      <td>10% Critical Value</td>\n",
              "      <td>-2.573044</td>\n",
              "    </tr>\n",
              "    <tr>\n",
              "      <th>5</th>\n",
              "      <td>Stationarity</td>\n",
              "      <td>Tidak Stasioner</td>\n",
              "    </tr>\n",
              "  </tbody>\n",
              "</table>\n",
              "</div>\n",
              "    <div class=\"colab-df-buttons\">\n",
              "\n",
              "  <div class=\"colab-df-container\">\n",
              "    <button class=\"colab-df-convert\" onclick=\"convertToInteractive('df-c443aa07-99cb-40f0-ac91-b4fcb99e03cd')\"\n",
              "            title=\"Convert this dataframe to an interactive table.\"\n",
              "            style=\"display:none;\">\n",
              "\n",
              "  <svg xmlns=\"http://www.w3.org/2000/svg\" height=\"24px\" viewBox=\"0 -960 960 960\">\n",
              "    <path d=\"M120-120v-720h720v720H120Zm60-500h600v-160H180v160Zm220 220h160v-160H400v160Zm0 220h160v-160H400v160ZM180-400h160v-160H180v160Zm440 0h160v-160H620v160ZM180-180h160v-160H180v160Zm440 0h160v-160H620v160Z\"/>\n",
              "  </svg>\n",
              "    </button>\n",
              "\n",
              "  <style>\n",
              "    .colab-df-container {\n",
              "      display:flex;\n",
              "      gap: 12px;\n",
              "    }\n",
              "\n",
              "    .colab-df-convert {\n",
              "      background-color: #E8F0FE;\n",
              "      border: none;\n",
              "      border-radius: 50%;\n",
              "      cursor: pointer;\n",
              "      display: none;\n",
              "      fill: #1967D2;\n",
              "      height: 32px;\n",
              "      padding: 0 0 0 0;\n",
              "      width: 32px;\n",
              "    }\n",
              "\n",
              "    .colab-df-convert:hover {\n",
              "      background-color: #E2EBFA;\n",
              "      box-shadow: 0px 1px 2px rgba(60, 64, 67, 0.3), 0px 1px 3px 1px rgba(60, 64, 67, 0.15);\n",
              "      fill: #174EA6;\n",
              "    }\n",
              "\n",
              "    .colab-df-buttons div {\n",
              "      margin-bottom: 4px;\n",
              "    }\n",
              "\n",
              "    [theme=dark] .colab-df-convert {\n",
              "      background-color: #3B4455;\n",
              "      fill: #D2E3FC;\n",
              "    }\n",
              "\n",
              "    [theme=dark] .colab-df-convert:hover {\n",
              "      background-color: #434B5C;\n",
              "      box-shadow: 0px 1px 3px 1px rgba(0, 0, 0, 0.15);\n",
              "      filter: drop-shadow(0px 1px 2px rgba(0, 0, 0, 0.3));\n",
              "      fill: #FFFFFF;\n",
              "    }\n",
              "  </style>\n",
              "\n",
              "    <script>\n",
              "      const buttonEl =\n",
              "        document.querySelector('#df-c443aa07-99cb-40f0-ac91-b4fcb99e03cd button.colab-df-convert');\n",
              "      buttonEl.style.display =\n",
              "        google.colab.kernel.accessAllowed ? 'block' : 'none';\n",
              "\n",
              "      async function convertToInteractive(key) {\n",
              "        const element = document.querySelector('#df-c443aa07-99cb-40f0-ac91-b4fcb99e03cd');\n",
              "        const dataTable =\n",
              "          await google.colab.kernel.invokeFunction('convertToInteractive',\n",
              "                                                    [key], {});\n",
              "        if (!dataTable) return;\n",
              "\n",
              "        const docLinkHtml = 'Like what you see? Visit the ' +\n",
              "          '<a target=\"_blank\" href=https://colab.research.google.com/notebooks/data_table.ipynb>data table notebook</a>'\n",
              "          + ' to learn more about interactive tables.';\n",
              "        element.innerHTML = '';\n",
              "        dataTable['output_type'] = 'display_data';\n",
              "        await google.colab.output.renderOutput(dataTable, element);\n",
              "        const docLink = document.createElement('div');\n",
              "        docLink.innerHTML = docLinkHtml;\n",
              "        element.appendChild(docLink);\n",
              "      }\n",
              "    </script>\n",
              "  </div>\n",
              "\n",
              "\n",
              "<div id=\"df-5cd0ba47-867e-4ec9-8d8c-4d3f3102a674\">\n",
              "  <button class=\"colab-df-quickchart\" onclick=\"quickchart('df-5cd0ba47-867e-4ec9-8d8c-4d3f3102a674')\"\n",
              "            title=\"Suggest charts\"\n",
              "            style=\"display:none;\">\n",
              "\n",
              "<svg xmlns=\"http://www.w3.org/2000/svg\" height=\"24px\"viewBox=\"0 0 24 24\"\n",
              "     width=\"24px\">\n",
              "    <g>\n",
              "        <path d=\"M19 3H5c-1.1 0-2 .9-2 2v14c0 1.1.9 2 2 2h14c1.1 0 2-.9 2-2V5c0-1.1-.9-2-2-2zM9 17H7v-7h2v7zm4 0h-2V7h2v10zm4 0h-2v-4h2v4z\"/>\n",
              "    </g>\n",
              "</svg>\n",
              "  </button>\n",
              "\n",
              "<style>\n",
              "  .colab-df-quickchart {\n",
              "      --bg-color: #E8F0FE;\n",
              "      --fill-color: #1967D2;\n",
              "      --hover-bg-color: #E2EBFA;\n",
              "      --hover-fill-color: #174EA6;\n",
              "      --disabled-fill-color: #AAA;\n",
              "      --disabled-bg-color: #DDD;\n",
              "  }\n",
              "\n",
              "  [theme=dark] .colab-df-quickchart {\n",
              "      --bg-color: #3B4455;\n",
              "      --fill-color: #D2E3FC;\n",
              "      --hover-bg-color: #434B5C;\n",
              "      --hover-fill-color: #FFFFFF;\n",
              "      --disabled-bg-color: #3B4455;\n",
              "      --disabled-fill-color: #666;\n",
              "  }\n",
              "\n",
              "  .colab-df-quickchart {\n",
              "    background-color: var(--bg-color);\n",
              "    border: none;\n",
              "    border-radius: 50%;\n",
              "    cursor: pointer;\n",
              "    display: none;\n",
              "    fill: var(--fill-color);\n",
              "    height: 32px;\n",
              "    padding: 0;\n",
              "    width: 32px;\n",
              "  }\n",
              "\n",
              "  .colab-df-quickchart:hover {\n",
              "    background-color: var(--hover-bg-color);\n",
              "    box-shadow: 0 1px 2px rgba(60, 64, 67, 0.3), 0 1px 3px 1px rgba(60, 64, 67, 0.15);\n",
              "    fill: var(--button-hover-fill-color);\n",
              "  }\n",
              "\n",
              "  .colab-df-quickchart-complete:disabled,\n",
              "  .colab-df-quickchart-complete:disabled:hover {\n",
              "    background-color: var(--disabled-bg-color);\n",
              "    fill: var(--disabled-fill-color);\n",
              "    box-shadow: none;\n",
              "  }\n",
              "\n",
              "  .colab-df-spinner {\n",
              "    border: 2px solid var(--fill-color);\n",
              "    border-color: transparent;\n",
              "    border-bottom-color: var(--fill-color);\n",
              "    animation:\n",
              "      spin 1s steps(1) infinite;\n",
              "  }\n",
              "\n",
              "  @keyframes spin {\n",
              "    0% {\n",
              "      border-color: transparent;\n",
              "      border-bottom-color: var(--fill-color);\n",
              "      border-left-color: var(--fill-color);\n",
              "    }\n",
              "    20% {\n",
              "      border-color: transparent;\n",
              "      border-left-color: var(--fill-color);\n",
              "      border-top-color: var(--fill-color);\n",
              "    }\n",
              "    30% {\n",
              "      border-color: transparent;\n",
              "      border-left-color: var(--fill-color);\n",
              "      border-top-color: var(--fill-color);\n",
              "      border-right-color: var(--fill-color);\n",
              "    }\n",
              "    40% {\n",
              "      border-color: transparent;\n",
              "      border-right-color: var(--fill-color);\n",
              "      border-top-color: var(--fill-color);\n",
              "    }\n",
              "    60% {\n",
              "      border-color: transparent;\n",
              "      border-right-color: var(--fill-color);\n",
              "    }\n",
              "    80% {\n",
              "      border-color: transparent;\n",
              "      border-right-color: var(--fill-color);\n",
              "      border-bottom-color: var(--fill-color);\n",
              "    }\n",
              "    90% {\n",
              "      border-color: transparent;\n",
              "      border-bottom-color: var(--fill-color);\n",
              "    }\n",
              "  }\n",
              "</style>\n",
              "\n",
              "  <script>\n",
              "    async function quickchart(key) {\n",
              "      const quickchartButtonEl =\n",
              "        document.querySelector('#' + key + ' button');\n",
              "      quickchartButtonEl.disabled = true;  // To prevent multiple clicks.\n",
              "      quickchartButtonEl.classList.add('colab-df-spinner');\n",
              "      try {\n",
              "        const charts = await google.colab.kernel.invokeFunction(\n",
              "            'suggestCharts', [key], {});\n",
              "      } catch (error) {\n",
              "        console.error('Error during call to suggestCharts:', error);\n",
              "      }\n",
              "      quickchartButtonEl.classList.remove('colab-df-spinner');\n",
              "      quickchartButtonEl.classList.add('colab-df-quickchart-complete');\n",
              "    }\n",
              "    (() => {\n",
              "      let quickchartButtonEl =\n",
              "        document.querySelector('#df-5cd0ba47-867e-4ec9-8d8c-4d3f3102a674 button');\n",
              "      quickchartButtonEl.style.display =\n",
              "        google.colab.kernel.accessAllowed ? 'block' : 'none';\n",
              "    })();\n",
              "  </script>\n",
              "</div>\n",
              "\n",
              "  <div id=\"id_75dd83ed-a944-43c5-b8be-e7c02a0fff53\">\n",
              "    <style>\n",
              "      .colab-df-generate {\n",
              "        background-color: #E8F0FE;\n",
              "        border: none;\n",
              "        border-radius: 50%;\n",
              "        cursor: pointer;\n",
              "        display: none;\n",
              "        fill: #1967D2;\n",
              "        height: 32px;\n",
              "        padding: 0 0 0 0;\n",
              "        width: 32px;\n",
              "      }\n",
              "\n",
              "      .colab-df-generate:hover {\n",
              "        background-color: #E2EBFA;\n",
              "        box-shadow: 0px 1px 2px rgba(60, 64, 67, 0.3), 0px 1px 3px 1px rgba(60, 64, 67, 0.15);\n",
              "        fill: #174EA6;\n",
              "      }\n",
              "\n",
              "      [theme=dark] .colab-df-generate {\n",
              "        background-color: #3B4455;\n",
              "        fill: #D2E3FC;\n",
              "      }\n",
              "\n",
              "      [theme=dark] .colab-df-generate:hover {\n",
              "        background-color: #434B5C;\n",
              "        box-shadow: 0px 1px 3px 1px rgba(0, 0, 0, 0.15);\n",
              "        filter: drop-shadow(0px 1px 2px rgba(0, 0, 0, 0.3));\n",
              "        fill: #FFFFFF;\n",
              "      }\n",
              "    </style>\n",
              "    <button class=\"colab-df-generate\" onclick=\"generateWithVariable('adf_table')\"\n",
              "            title=\"Generate code using this dataframe.\"\n",
              "            style=\"display:none;\">\n",
              "\n",
              "  <svg xmlns=\"http://www.w3.org/2000/svg\" height=\"24px\"viewBox=\"0 0 24 24\"\n",
              "       width=\"24px\">\n",
              "    <path d=\"M7,19H8.4L18.45,9,17,7.55,7,17.6ZM5,21V16.75L18.45,3.32a2,2,0,0,1,2.83,0l1.4,1.43a1.91,1.91,0,0,1,.58,1.4,1.91,1.91,0,0,1-.58,1.4L9.25,21ZM18.45,9,17,7.55Zm-12,3A5.31,5.31,0,0,0,4.9,8.1,5.31,5.31,0,0,0,1,6.5,5.31,5.31,0,0,0,4.9,4.9,5.31,5.31,0,0,0,6.5,1,5.31,5.31,0,0,0,8.1,4.9,5.31,5.31,0,0,0,12,6.5,5.46,5.46,0,0,0,6.5,12Z\"/>\n",
              "  </svg>\n",
              "    </button>\n",
              "    <script>\n",
              "      (() => {\n",
              "      const buttonEl =\n",
              "        document.querySelector('#id_75dd83ed-a944-43c5-b8be-e7c02a0fff53 button.colab-df-generate');\n",
              "      buttonEl.style.display =\n",
              "        google.colab.kernel.accessAllowed ? 'block' : 'none';\n",
              "\n",
              "      buttonEl.onclick = () => {\n",
              "        google.colab.notebook.generateWithVariable('adf_table');\n",
              "      }\n",
              "      })();\n",
              "    </script>\n",
              "  </div>\n",
              "\n",
              "    </div>\n",
              "  </div>\n"
            ],
            "application/vnd.google.colaboratory.intrinsic+json": {
              "type": "dataframe",
              "variable_name": "adf_table",
              "summary": "{\n  \"name\": \"adf_table\",\n  \"rows\": 6,\n  \"fields\": [\n    {\n      \"column\": \"Metric\",\n      \"properties\": {\n        \"dtype\": \"string\",\n        \"num_unique_values\": 6,\n        \"samples\": [\n          \"ADF Statistic\",\n          \"p-value\",\n          \"Stationarity\"\n        ],\n        \"semantic_type\": \"\",\n        \"description\": \"\"\n      }\n    },\n    {\n      \"column\": \"Value\",\n      \"properties\": {\n        \"dtype\": \"string\",\n        \"num_unique_values\": 6,\n        \"samples\": [\n          -1.6784047308467154,\n          0.44227194287244687,\n          \"Tidak Stasioner\"\n        ],\n        \"semantic_type\": \"\",\n        \"description\": \"\"\n      }\n    }\n  ]\n}"
            }
          },
          "metadata": {},
          "execution_count": 38
        }
      ],
      "source": [
        "from statsmodels.tsa.stattools import adfuller\n",
        "\n",
        "def test_stationarity(series):\n",
        "    result = adfuller(series)  # Menghilangkan missing values\n",
        "    # Membuat dataframe untuk hasil uji ADF\n",
        "    adf_result = pd.DataFrame({\n",
        "        'Metric': ['ADF Statistic', 'p-value', '1% Critical Value', '5% Critical Value', '10% Critical Value', 'Stationarity'],\n",
        "        'Value': [result[0], result[1], result[4]['1%'], result[4]['5%'], result[4]['10%'], 'Stasioner' if result[1] < 0.05 else 'Tidak Stasioner']\n",
        "    })\n",
        "    return adf_result\n",
        "\n",
        "# Pertama, kita akan uji data tanpa differencing\n",
        "print(\"Uji ADF pada data asli (tanpa differencing):\")\n",
        "adf_table = test_stationarity(Adjclose_boxcox)\n",
        "adf_table\n"
      ]
    },
    {
      "cell_type": "markdown",
      "source": [
        "Kode ini menguji stasionaritas data time series menggunakan ADF Test. Langkahnya:\n",
        "\n",
        "Format Tanggal dan Indeks: Ubah Date ke format datetime dan jadikan indeks.\n",
        "ADF Test: Fungsi test_stationarity menjalankan uji ADF untuk memeriksa apakah data stasioner:\n",
        "Jika p-value < 0.05, data dianggap stasioner.\n",
        "Jika p-value ≥ 0.05, data tidak stasioner.\n",
        "Uji Data Asli: Data Adjclose_boxcox diuji tanpa differencing, dan hasilnya ditampilkan dalam tabel.\n",
        "Uji ini penting untuk memastikan data sesuai untuk model time series seperti ARIMA."
      ],
      "metadata": {
        "id": "pRb46n7CbSW1"
      }
    },
    {
      "cell_type": "code",
      "execution_count": null,
      "metadata": {
        "colab": {
          "base_uri": "https://localhost:8080/",
          "height": 252
        },
        "id": "mCE8YAHtgVOA",
        "outputId": "71259d63-c68d-4158-fa87-90e28cc4097f"
      },
      "outputs": [
        {
          "output_type": "stream",
          "name": "stdout",
          "text": [
            "Uji ADF setelah differencing pertama:\n"
          ]
        },
        {
          "output_type": "execute_result",
          "data": {
            "text/plain": [
              "               Metric      Value\n",
              "0       ADF Statistic  -7.056985\n",
              "1             p-value        0.0\n",
              "2   1% Critical Value  -3.457105\n",
              "3   5% Critical Value  -2.873314\n",
              "4  10% Critical Value  -2.573044\n",
              "5        Stationarity  Stasioner"
            ],
            "text/html": [
              "\n",
              "  <div id=\"df-d7049ec1-d5a9-4aaa-b514-b30ec59ee151\" class=\"colab-df-container\">\n",
              "    <div>\n",
              "<style scoped>\n",
              "    .dataframe tbody tr th:only-of-type {\n",
              "        vertical-align: middle;\n",
              "    }\n",
              "\n",
              "    .dataframe tbody tr th {\n",
              "        vertical-align: top;\n",
              "    }\n",
              "\n",
              "    .dataframe thead th {\n",
              "        text-align: right;\n",
              "    }\n",
              "</style>\n",
              "<table border=\"1\" class=\"dataframe\">\n",
              "  <thead>\n",
              "    <tr style=\"text-align: right;\">\n",
              "      <th></th>\n",
              "      <th>Metric</th>\n",
              "      <th>Value</th>\n",
              "    </tr>\n",
              "  </thead>\n",
              "  <tbody>\n",
              "    <tr>\n",
              "      <th>0</th>\n",
              "      <td>ADF Statistic</td>\n",
              "      <td>-7.056985</td>\n",
              "    </tr>\n",
              "    <tr>\n",
              "      <th>1</th>\n",
              "      <td>p-value</td>\n",
              "      <td>0.0</td>\n",
              "    </tr>\n",
              "    <tr>\n",
              "      <th>2</th>\n",
              "      <td>1% Critical Value</td>\n",
              "      <td>-3.457105</td>\n",
              "    </tr>\n",
              "    <tr>\n",
              "      <th>3</th>\n",
              "      <td>5% Critical Value</td>\n",
              "      <td>-2.873314</td>\n",
              "    </tr>\n",
              "    <tr>\n",
              "      <th>4</th>\n",
              "      <td>10% Critical Value</td>\n",
              "      <td>-2.573044</td>\n",
              "    </tr>\n",
              "    <tr>\n",
              "      <th>5</th>\n",
              "      <td>Stationarity</td>\n",
              "      <td>Stasioner</td>\n",
              "    </tr>\n",
              "  </tbody>\n",
              "</table>\n",
              "</div>\n",
              "    <div class=\"colab-df-buttons\">\n",
              "\n",
              "  <div class=\"colab-df-container\">\n",
              "    <button class=\"colab-df-convert\" onclick=\"convertToInteractive('df-d7049ec1-d5a9-4aaa-b514-b30ec59ee151')\"\n",
              "            title=\"Convert this dataframe to an interactive table.\"\n",
              "            style=\"display:none;\">\n",
              "\n",
              "  <svg xmlns=\"http://www.w3.org/2000/svg\" height=\"24px\" viewBox=\"0 -960 960 960\">\n",
              "    <path d=\"M120-120v-720h720v720H120Zm60-500h600v-160H180v160Zm220 220h160v-160H400v160Zm0 220h160v-160H400v160ZM180-400h160v-160H180v160Zm440 0h160v-160H620v160ZM180-180h160v-160H180v160Zm440 0h160v-160H620v160Z\"/>\n",
              "  </svg>\n",
              "    </button>\n",
              "\n",
              "  <style>\n",
              "    .colab-df-container {\n",
              "      display:flex;\n",
              "      gap: 12px;\n",
              "    }\n",
              "\n",
              "    .colab-df-convert {\n",
              "      background-color: #E8F0FE;\n",
              "      border: none;\n",
              "      border-radius: 50%;\n",
              "      cursor: pointer;\n",
              "      display: none;\n",
              "      fill: #1967D2;\n",
              "      height: 32px;\n",
              "      padding: 0 0 0 0;\n",
              "      width: 32px;\n",
              "    }\n",
              "\n",
              "    .colab-df-convert:hover {\n",
              "      background-color: #E2EBFA;\n",
              "      box-shadow: 0px 1px 2px rgba(60, 64, 67, 0.3), 0px 1px 3px 1px rgba(60, 64, 67, 0.15);\n",
              "      fill: #174EA6;\n",
              "    }\n",
              "\n",
              "    .colab-df-buttons div {\n",
              "      margin-bottom: 4px;\n",
              "    }\n",
              "\n",
              "    [theme=dark] .colab-df-convert {\n",
              "      background-color: #3B4455;\n",
              "      fill: #D2E3FC;\n",
              "    }\n",
              "\n",
              "    [theme=dark] .colab-df-convert:hover {\n",
              "      background-color: #434B5C;\n",
              "      box-shadow: 0px 1px 3px 1px rgba(0, 0, 0, 0.15);\n",
              "      filter: drop-shadow(0px 1px 2px rgba(0, 0, 0, 0.3));\n",
              "      fill: #FFFFFF;\n",
              "    }\n",
              "  </style>\n",
              "\n",
              "    <script>\n",
              "      const buttonEl =\n",
              "        document.querySelector('#df-d7049ec1-d5a9-4aaa-b514-b30ec59ee151 button.colab-df-convert');\n",
              "      buttonEl.style.display =\n",
              "        google.colab.kernel.accessAllowed ? 'block' : 'none';\n",
              "\n",
              "      async function convertToInteractive(key) {\n",
              "        const element = document.querySelector('#df-d7049ec1-d5a9-4aaa-b514-b30ec59ee151');\n",
              "        const dataTable =\n",
              "          await google.colab.kernel.invokeFunction('convertToInteractive',\n",
              "                                                    [key], {});\n",
              "        if (!dataTable) return;\n",
              "\n",
              "        const docLinkHtml = 'Like what you see? Visit the ' +\n",
              "          '<a target=\"_blank\" href=https://colab.research.google.com/notebooks/data_table.ipynb>data table notebook</a>'\n",
              "          + ' to learn more about interactive tables.';\n",
              "        element.innerHTML = '';\n",
              "        dataTable['output_type'] = 'display_data';\n",
              "        await google.colab.output.renderOutput(dataTable, element);\n",
              "        const docLink = document.createElement('div');\n",
              "        docLink.innerHTML = docLinkHtml;\n",
              "        element.appendChild(docLink);\n",
              "      }\n",
              "    </script>\n",
              "  </div>\n",
              "\n",
              "\n",
              "<div id=\"df-624763ab-8b25-4c0a-90d0-d3a7179811a0\">\n",
              "  <button class=\"colab-df-quickchart\" onclick=\"quickchart('df-624763ab-8b25-4c0a-90d0-d3a7179811a0')\"\n",
              "            title=\"Suggest charts\"\n",
              "            style=\"display:none;\">\n",
              "\n",
              "<svg xmlns=\"http://www.w3.org/2000/svg\" height=\"24px\"viewBox=\"0 0 24 24\"\n",
              "     width=\"24px\">\n",
              "    <g>\n",
              "        <path d=\"M19 3H5c-1.1 0-2 .9-2 2v14c0 1.1.9 2 2 2h14c1.1 0 2-.9 2-2V5c0-1.1-.9-2-2-2zM9 17H7v-7h2v7zm4 0h-2V7h2v10zm4 0h-2v-4h2v4z\"/>\n",
              "    </g>\n",
              "</svg>\n",
              "  </button>\n",
              "\n",
              "<style>\n",
              "  .colab-df-quickchart {\n",
              "      --bg-color: #E8F0FE;\n",
              "      --fill-color: #1967D2;\n",
              "      --hover-bg-color: #E2EBFA;\n",
              "      --hover-fill-color: #174EA6;\n",
              "      --disabled-fill-color: #AAA;\n",
              "      --disabled-bg-color: #DDD;\n",
              "  }\n",
              "\n",
              "  [theme=dark] .colab-df-quickchart {\n",
              "      --bg-color: #3B4455;\n",
              "      --fill-color: #D2E3FC;\n",
              "      --hover-bg-color: #434B5C;\n",
              "      --hover-fill-color: #FFFFFF;\n",
              "      --disabled-bg-color: #3B4455;\n",
              "      --disabled-fill-color: #666;\n",
              "  }\n",
              "\n",
              "  .colab-df-quickchart {\n",
              "    background-color: var(--bg-color);\n",
              "    border: none;\n",
              "    border-radius: 50%;\n",
              "    cursor: pointer;\n",
              "    display: none;\n",
              "    fill: var(--fill-color);\n",
              "    height: 32px;\n",
              "    padding: 0;\n",
              "    width: 32px;\n",
              "  }\n",
              "\n",
              "  .colab-df-quickchart:hover {\n",
              "    background-color: var(--hover-bg-color);\n",
              "    box-shadow: 0 1px 2px rgba(60, 64, 67, 0.3), 0 1px 3px 1px rgba(60, 64, 67, 0.15);\n",
              "    fill: var(--button-hover-fill-color);\n",
              "  }\n",
              "\n",
              "  .colab-df-quickchart-complete:disabled,\n",
              "  .colab-df-quickchart-complete:disabled:hover {\n",
              "    background-color: var(--disabled-bg-color);\n",
              "    fill: var(--disabled-fill-color);\n",
              "    box-shadow: none;\n",
              "  }\n",
              "\n",
              "  .colab-df-spinner {\n",
              "    border: 2px solid var(--fill-color);\n",
              "    border-color: transparent;\n",
              "    border-bottom-color: var(--fill-color);\n",
              "    animation:\n",
              "      spin 1s steps(1) infinite;\n",
              "  }\n",
              "\n",
              "  @keyframes spin {\n",
              "    0% {\n",
              "      border-color: transparent;\n",
              "      border-bottom-color: var(--fill-color);\n",
              "      border-left-color: var(--fill-color);\n",
              "    }\n",
              "    20% {\n",
              "      border-color: transparent;\n",
              "      border-left-color: var(--fill-color);\n",
              "      border-top-color: var(--fill-color);\n",
              "    }\n",
              "    30% {\n",
              "      border-color: transparent;\n",
              "      border-left-color: var(--fill-color);\n",
              "      border-top-color: var(--fill-color);\n",
              "      border-right-color: var(--fill-color);\n",
              "    }\n",
              "    40% {\n",
              "      border-color: transparent;\n",
              "      border-right-color: var(--fill-color);\n",
              "      border-top-color: var(--fill-color);\n",
              "    }\n",
              "    60% {\n",
              "      border-color: transparent;\n",
              "      border-right-color: var(--fill-color);\n",
              "    }\n",
              "    80% {\n",
              "      border-color: transparent;\n",
              "      border-right-color: var(--fill-color);\n",
              "      border-bottom-color: var(--fill-color);\n",
              "    }\n",
              "    90% {\n",
              "      border-color: transparent;\n",
              "      border-bottom-color: var(--fill-color);\n",
              "    }\n",
              "  }\n",
              "</style>\n",
              "\n",
              "  <script>\n",
              "    async function quickchart(key) {\n",
              "      const quickchartButtonEl =\n",
              "        document.querySelector('#' + key + ' button');\n",
              "      quickchartButtonEl.disabled = true;  // To prevent multiple clicks.\n",
              "      quickchartButtonEl.classList.add('colab-df-spinner');\n",
              "      try {\n",
              "        const charts = await google.colab.kernel.invokeFunction(\n",
              "            'suggestCharts', [key], {});\n",
              "      } catch (error) {\n",
              "        console.error('Error during call to suggestCharts:', error);\n",
              "      }\n",
              "      quickchartButtonEl.classList.remove('colab-df-spinner');\n",
              "      quickchartButtonEl.classList.add('colab-df-quickchart-complete');\n",
              "    }\n",
              "    (() => {\n",
              "      let quickchartButtonEl =\n",
              "        document.querySelector('#df-624763ab-8b25-4c0a-90d0-d3a7179811a0 button');\n",
              "      quickchartButtonEl.style.display =\n",
              "        google.colab.kernel.accessAllowed ? 'block' : 'none';\n",
              "    })();\n",
              "  </script>\n",
              "</div>\n",
              "\n",
              "  <div id=\"id_4ebf121a-4b74-436d-a19b-5fdd7a5291ed\">\n",
              "    <style>\n",
              "      .colab-df-generate {\n",
              "        background-color: #E8F0FE;\n",
              "        border: none;\n",
              "        border-radius: 50%;\n",
              "        cursor: pointer;\n",
              "        display: none;\n",
              "        fill: #1967D2;\n",
              "        height: 32px;\n",
              "        padding: 0 0 0 0;\n",
              "        width: 32px;\n",
              "      }\n",
              "\n",
              "      .colab-df-generate:hover {\n",
              "        background-color: #E2EBFA;\n",
              "        box-shadow: 0px 1px 2px rgba(60, 64, 67, 0.3), 0px 1px 3px 1px rgba(60, 64, 67, 0.15);\n",
              "        fill: #174EA6;\n",
              "      }\n",
              "\n",
              "      [theme=dark] .colab-df-generate {\n",
              "        background-color: #3B4455;\n",
              "        fill: #D2E3FC;\n",
              "      }\n",
              "\n",
              "      [theme=dark] .colab-df-generate:hover {\n",
              "        background-color: #434B5C;\n",
              "        box-shadow: 0px 1px 3px 1px rgba(0, 0, 0, 0.15);\n",
              "        filter: drop-shadow(0px 1px 2px rgba(0, 0, 0, 0.3));\n",
              "        fill: #FFFFFF;\n",
              "      }\n",
              "    </style>\n",
              "    <button class=\"colab-df-generate\" onclick=\"generateWithVariable('adf_table_diff')\"\n",
              "            title=\"Generate code using this dataframe.\"\n",
              "            style=\"display:none;\">\n",
              "\n",
              "  <svg xmlns=\"http://www.w3.org/2000/svg\" height=\"24px\"viewBox=\"0 0 24 24\"\n",
              "       width=\"24px\">\n",
              "    <path d=\"M7,19H8.4L18.45,9,17,7.55,7,17.6ZM5,21V16.75L18.45,3.32a2,2,0,0,1,2.83,0l1.4,1.43a1.91,1.91,0,0,1,.58,1.4,1.91,1.91,0,0,1-.58,1.4L9.25,21ZM18.45,9,17,7.55Zm-12,3A5.31,5.31,0,0,0,4.9,8.1,5.31,5.31,0,0,0,1,6.5,5.31,5.31,0,0,0,4.9,4.9,5.31,5.31,0,0,0,6.5,1,5.31,5.31,0,0,0,8.1,4.9,5.31,5.31,0,0,0,12,6.5,5.46,5.46,0,0,0,6.5,12Z\"/>\n",
              "  </svg>\n",
              "    </button>\n",
              "    <script>\n",
              "      (() => {\n",
              "      const buttonEl =\n",
              "        document.querySelector('#id_4ebf121a-4b74-436d-a19b-5fdd7a5291ed button.colab-df-generate');\n",
              "      buttonEl.style.display =\n",
              "        google.colab.kernel.accessAllowed ? 'block' : 'none';\n",
              "\n",
              "      buttonEl.onclick = () => {\n",
              "        google.colab.notebook.generateWithVariable('adf_table_diff');\n",
              "      }\n",
              "      })();\n",
              "    </script>\n",
              "  </div>\n",
              "\n",
              "    </div>\n",
              "  </div>\n"
            ],
            "application/vnd.google.colaboratory.intrinsic+json": {
              "type": "dataframe",
              "variable_name": "adf_table_diff",
              "summary": "{\n  \"name\": \"adf_table_diff\",\n  \"rows\": 6,\n  \"fields\": [\n    {\n      \"column\": \"Metric\",\n      \"properties\": {\n        \"dtype\": \"string\",\n        \"num_unique_values\": 6,\n        \"samples\": [\n          \"ADF Statistic\",\n          \"p-value\",\n          \"Stationarity\"\n        ],\n        \"semantic_type\": \"\",\n        \"description\": \"\"\n      }\n    },\n    {\n      \"column\": \"Value\",\n      \"properties\": {\n        \"dtype\": \"string\",\n        \"num_unique_values\": 6,\n        \"samples\": [\n          -7.056985440409692,\n          5.343675301618959e-10,\n          \"Stasioner\"\n        ],\n        \"semantic_type\": \"\",\n        \"description\": \"\"\n      }\n    }\n  ]\n}"
            }
          },
          "metadata": {},
          "execution_count": 39
        }
      ],
      "source": [
        "# Melakukan Differencing (pertama)\n",
        "Adjclose_boxcox_diff = pd.Series(Adjclose_boxcox).diff().dropna()\n",
        "\n",
        "# Uji stasioneritas pada hasil differencing pertama\n",
        "print(\"Uji ADF setelah differencing pertama:\")\n",
        "adf_table_diff = test_stationarity(Adjclose_boxcox_diff)\n",
        "adf_table_diff"
      ]
    },
    {
      "cell_type": "markdown",
      "metadata": {
        "id": "0Ks5Bk1IucIG"
      },
      "source": [
        "Kode ini mencoba membuat data lebih stasioner dengan differencing pertama. Data hasil differencing diuji kembali menggunakan ADF Test untuk memastikan bahwa tren atau pola non-stasioner telah dihilangkan, sehingga data siap untuk analisis atau pemodelan time series."
      ]
    },
    {
      "cell_type": "markdown",
      "metadata": {
        "id": "KKMcjb91gcfX"
      },
      "source": [
        "# **Plot ACF dan PACF**"
      ]
    },
    {
      "cell_type": "markdown",
      "source": [
        "Plot ACF (Autocorrelation Function) dan PACF(Partial Autocorrelation Function) adalah alat yang digunakan untuk menganalisis sifat korelasi dalam data deret waktu, terutama untuk menentukan model ARIMA yang sesuai."
      ],
      "metadata": {
        "id": "DR4E27glYaCd"
      }
    },
    {
      "cell_type": "code",
      "execution_count": null,
      "metadata": {
        "colab": {
          "base_uri": "https://localhost:8080/",
          "height": 545
        },
        "id": "eYaWFGCThLoI",
        "outputId": "5c14a824-780a-4b61-f233-3c39153e3f31"
      },
      "outputs": [
        {
          "output_type": "display_data",
          "data": {
            "text/plain": [
              "<Figure size 1200x600 with 2 Axes>"
            ],
            "image/png": "[encoded data removed]"
          },
          "metadata": {}
        }
      ],
      "source": [
        "from statsmodels.graphics.tsaplots import plot_acf, plot_pacf\n",
        "\n",
        "plt.figure(figsize=(12, 6))\n",
        "plot_acf(Adjclose_boxcox_diff, lags=30, ax=plt.subplot(121))\n",
        "plot_pacf(Adjclose_boxcox_diff, lags=30, ax=plt.subplot(122))\n",
        "plt.show()"
      ]
    },
    {
      "cell_type": "code",
      "execution_count": null,
      "metadata": {
        "colab": {
          "base_uri": "https://localhost:8080/"
        },
        "id": "hmcjNQeX_i3M",
        "outputId": "2df0130f-de9d-4bf4-fec4-da47c39e8664"
      },
      "outputs": [
        {
          "output_type": "stream",
          "name": "stdout",
          "text": [
            "Nilai-nilai q yang mungkin dari ACF: [4, 17, 20]\n",
            "Nilai-nilai p yang mungkin dari PACF: [4, 18, 20]\n"
          ]
        }
      ],
      "source": [
        "from statsmodels.graphics.tsaplots import plot_acf, plot_pacf\n",
        "from statsmodels.tsa.stattools import acf, pacf\n",
        "\n",
        "# Hitung nilai ACF dan PACF\n",
        "acf_values = acf(Adjclose_boxcox_diff, fft=False, nlags=30)\n",
        "pacf_values = pacf(Adjclose_boxcox_diff, nlags=30)\n",
        "\n",
        "# Ambil threshold signifikan\n",
        "conf_level = 1.96 / (len(Adjclose_boxcox_diff)**0.5)\n",
        "\n",
        "# Deteksi nilai q dari ACF\n",
        "q_candidates = [lag for lag, value in enumerate(acf_values) if abs(value) > conf_level and lag > 0]\n",
        "\n",
        "# Deteksi nilai p dari PACF\n",
        "p_candidates = [lag for lag, value in enumerate(pacf_values) if abs(value) > conf_level and lag > 0]\n",
        "\n",
        "# Output hasil\n",
        "print(f\"Nilai-nilai q yang mungkin dari ACF: {q_candidates}\")\n",
        "print(f\"Nilai-nilai p yang mungkin dari PACF: {p_candidates}\")\n"
      ]
    },
    {
      "cell_type": "markdown",
      "source": [
        "Berdasarkan kedua plot ini, nilai-nilai q yang mungkin dari ACF adalah [4, 17, 20], dan nilai-nilai p yang mungkin dari PACF adalah [4, 18, 20].\n"
      ],
      "metadata": {
        "id": "Qo80Q-uHYdsy"
      }
    },
    {
      "cell_type": "markdown",
      "metadata": {
        "id": "WThVKx27h-zi"
      },
      "source": [
        "# **Pilih Model Terbaik (AIC)**"
      ]
    },
    {
      "cell_type": "markdown",
      "source": [
        "Pemilihan model terbaik dilakukan berdasarkan nilai AIC (Akaike Information Criterion) yang paling kecil. Dalam hal ini, terdapat 9 kemungkinan model yang diuji, yaitu kombinasi ACF[4,17,20] dan PACF[4,18,20]. Model-model tersebut akan diuji untuk mencari nilai AIC terendah untuk mendapatkan model terbaik."
      ],
      "metadata": {
        "id": "C5sJEZM2VQSD"
      }
    },
    {
      "cell_type": "code",
      "execution_count": null,
      "metadata": {
        "colab": {
          "base_uri": "https://localhost:8080/"
        },
        "id": "yZkaVOtowPaF",
        "outputId": "b3d3802b-b9a2-449d-d6a1-24e8d91fb796"
      },
      "outputs": [
        {
          "output_type": "stream",
          "name": "stdout",
          "text": [
            "Model terbaik: ARIMA(4, 1, 4) dengan AIC: 720.562832421257\n",
            "\n",
            "Daftar semua model ARIMA yang diuji:\n",
            "  Order (p, d, q)         AIC\n",
            "0       (4, 1, 4)  720.562832\n",
            "2      (4, 1, 20)  730.270118\n",
            "3      (18, 1, 4)  731.311502\n",
            "4     (18, 1, 17)  732.492825\n",
            "6      (20, 1, 4)  733.897301\n",
            "1      (4, 1, 17)  734.669139\n",
            "7     (20, 1, 17)  737.660116\n",
            "5     (18, 1, 20)  737.896052\n",
            "8     (20, 1, 20)  739.997788\n"
          ]
        }
      ],
      "source": [
        "from statsmodels.tsa.arima.model import ARIMA\n",
        "from statsmodels.tsa.stattools import adfuller\n",
        "import warnings\n",
        "\n",
        "# Matikan peringatan\n",
        "warnings.filterwarnings(\"ignore\")\n",
        "\n",
        "# Data stasioner hasil differencing\n",
        "data_stationary = Adjclose_boxcox_diff\n",
        "\n",
        "# Tentukan range parameter p, d, q\n",
        "p = [4, 18, 20]  # Range p (AR term)\n",
        "d = [1]          # d berdasarkan differencing\n",
        "q = [4, 17, 20] # Range q (MA term)\n",
        "\n",
        "# Simpan hasil\n",
        "results_list = []\n",
        "\n",
        "# Loop untuk mencoba berbagai kombinasi p, d, q\n",
        "for i in p:\n",
        "    for j in d:\n",
        "        for k in q:\n",
        "            try:\n",
        "                # Tentukan model ARIMA\n",
        "                model = ARIMA(data_stationary, order=(i, j, k))\n",
        "                results = model.fit()\n",
        "\n",
        "                # Simpan hasil (parameter dan AIC)\n",
        "                results_list.append({\n",
        "                    'Order (p, d, q)': (i, j, k),\n",
        "                    'AIC': results.aic\n",
        "                })\n",
        "            except Exception as e:\n",
        "                continue\n",
        "\n",
        "# Konversi hasil ke DataFrame untuk analisis\n",
        "results_df = pd.DataFrame(results_list).sort_values(by='AIC', ascending=True)\n",
        "\n",
        "# Tampilkan model terbaik\n",
        "print(f\"Model terbaik: ARIMA{results_df.iloc[0]['Order (p, d, q)']} dengan AIC: {results_df.iloc[0]['AIC']}\")\n",
        "\n",
        "# Tampilkan seluruh hasil\n",
        "print(\"\\nDaftar semua model ARIMA yang diuji:\")\n",
        "print(results_df)"
      ]
    },
    {
      "cell_type": "markdown",
      "source": [
        "Setalah melakukan uji AIC, kami mendapatkan model terbaik yaitu **ARIMA(4,1,4)** dengan nilai AIC yaitu:\n",
        "**720.562832421257**\n",
        "\n"
      ],
      "metadata": {
        "id": "ChIXC1WuWHYG"
      }
    },
    {
      "cell_type": "markdown",
      "metadata": {
        "id": "-OTHhUs_iXqv"
      },
      "source": [
        "\n",
        "\n",
        "# **Estimasi Parameter (Maximum Likelihood)**"
      ]
    },
    {
      "cell_type": "markdown",
      "source": [
        "Estimasi parameter model ARIMA menggunakan metode Maximum Likelihood bertujuan untuk menemukan nilai parameter yang memaksimalkan probabilitas data. Parameter yang diestimasi meliputi  Autoregressive (AR), Moving Average (MA), dan variansi noise/error (sigma²)."
      ],
      "metadata": {
        "id": "y2WxwwvCXKS7"
      }
    },
    {
      "cell_type": "code",
      "execution_count": null,
      "metadata": {
        "id": "98DVGh4aCKzh",
        "colab": {
          "base_uri": "https://localhost:8080/"
        },
        "outputId": "1db13137-3a18-4052-95eb-f71213438e8d"
      },
      "outputs": [
        {
          "output_type": "stream",
          "name": "stdout",
          "text": [
            "Hasil Estimasi Parameter:\n",
            "                               SARIMAX Results                                \n",
            "==============================================================================\n",
            "Dep. Variable:                      y   No. Observations:                  251\n",
            "Model:                 ARIMA(4, 1, 4)   Log Likelihood                -351.281\n",
            "Date:                Mon, 30 Dec 2024   AIC                            720.563\n",
            "Time:                        12:53:54   BIC                            752.256\n",
            "Sample:                             0   HQIC                           733.318\n",
            "                                - 251                                         \n",
            "Covariance Type:                  opg                                         \n",
            "==============================================================================\n",
            "                 coef    std err          z      P>|z|      [0.025      0.975]\n",
            "------------------------------------------------------------------------------\n",
            "ar.L1         -0.4120      0.339     -1.216      0.224      -1.076       0.252\n",
            "ar.L2         -0.6840      0.115     -5.930      0.000      -0.910      -0.458\n",
            "ar.L3         -0.6077      0.317     -1.915      0.055      -1.230       0.014\n",
            "ar.L4          0.1303      0.073      1.780      0.075      -0.013       0.274\n",
            "ma.L1         -0.4844      0.343     -1.411      0.158      -1.157       0.188\n",
            "ma.L2          0.2415      0.370      0.654      0.513      -0.483       0.966\n",
            "ma.L3         -0.1137      0.355     -0.321      0.749      -0.809       0.582\n",
            "ma.L4         -0.6109      0.313     -1.949      0.051      -1.225       0.003\n",
            "sigma2         0.9561      0.073     13.148      0.000       0.814       1.099\n",
            "===================================================================================\n",
            "Ljung-Box (L1) (Q):                   0.00   Jarque-Bera (JB):                14.14\n",
            "Prob(Q):                              0.99   Prob(JB):                         0.00\n",
            "Heteroskedasticity (H):               1.38   Skew:                             0.17\n",
            "Prob(H) (two-sided):                  0.15   Kurtosis:                         4.12\n",
            "===================================================================================\n",
            "\n",
            "Warnings:\n",
            "[1] Covariance matrix calculated using the outer product of gradients (complex-step).\n"
          ]
        }
      ],
      "source": [
        "from statsmodels.tsa.arima.model import ARIMA\n",
        "import warnings\n",
        "\n",
        "# Matikan peringatan\n",
        "warnings.filterwarnings(\"ignore\")\n",
        "\n",
        "best_order = (4, 1, 4)\n",
        "\n",
        "# Fit model ARIMA\n",
        "model = ARIMA(Adjclose_boxcox_diff, order=best_order)\n",
        "fitted_model = model.fit()\n",
        "\n",
        "# Menampilkan parameter hasil estimasi\n",
        "print(\"Hasil Estimasi Parameter:\")\n",
        "print(fitted_model.summary())"
      ]
    },
    {
      "cell_type": "code",
      "execution_count": null,
      "metadata": {
        "id": "unfP-HMOCrP6",
        "colab": {
          "base_uri": "https://localhost:8080/"
        },
        "outputId": "deff4fff-3026-4b17-ffbc-57e02b5155f8"
      },
      "outputs": [
        {
          "output_type": "stream",
          "name": "stdout",
          "text": [
            "Parameter ARIMA:\n",
            "ar.L1    -0.412004\n",
            "ar.L2    -0.684031\n",
            "ar.L3    -0.607668\n",
            "ar.L4     0.130327\n",
            "ma.L1    -0.484400\n",
            "ma.L2     0.241531\n",
            "ma.L3    -0.113741\n",
            "ma.L4    -0.610937\n",
            "sigma2    0.956085\n",
            "dtype: float64\n",
            "\n",
            "P-Values untuk Parameter:\n",
            "ar.L1     2.239111e-01\n",
            "ar.L2     3.035989e-09\n",
            "ar.L3     5.545875e-02\n",
            "ar.L4     7.502219e-02\n",
            "ma.L1     1.582000e-01\n",
            "ma.L2     5.134019e-01\n",
            "ma.L3     7.485436e-01\n",
            "ma.L4     5.126993e-02\n",
            "sigma2    1.746936e-39\n",
            "dtype: float64\n",
            "\n",
            "Parameter signifikan (p-value < 0.05):\n",
            "ar.L2    -0.684031\n",
            "sigma2    0.956085\n",
            "dtype: float64\n"
          ]
        }
      ],
      "source": [
        "# Mengambil parameter dan p-value\n",
        "params = fitted_model.params  # Parameter ARIMA\n",
        "pvalues = fitted_model.pvalues  # p-value untuk parameter\n",
        "\n",
        "# Menampilkan hasil parameter dan p-value\n",
        "print(\"Parameter ARIMA:\")\n",
        "print(params)\n",
        "print(\"\\nP-Values untuk Parameter:\")\n",
        "print(pvalues)\n",
        "\n",
        "# Mengecek parameter signifikan\n",
        "print(\"\\nParameter signifikan (p-value < 0.05):\")\n",
        "significant_params = params[pvalues < 0.05]\n",
        "print(significant_params)"
      ]
    },
    {
      "cell_type": "markdown",
      "metadata": {
        "id": "YOeDtfJdFUe9"
      },
      "source": [
        "catetan:\n",
        "P-value menunjukkan signifikansi parameter:\n",
        "Jika p-value < 0.05, parameter dianggap signifikan.\n",
        "Jika p-value ≥ 0.05, parameter tidak signifikan"
      ]
    },
    {
      "cell_type": "markdown",
      "source": [
        "Setelah melakukan Estimasi parameter model ARIMA menggunakan metode Maximum Likelihood kami mendapkan 2 parameter yang signipifak dengan niali p-value < 0.05 yaitu:\n",
        "\n",
        "\n",
        "*   ar.L2    -0.684031\n",
        "\n",
        "*   sigma2    0.956085\n",
        "\n"
      ],
      "metadata": {
        "id": "njbbTQgeXMfu"
      }
    },
    {
      "cell_type": "markdown",
      "metadata": {
        "id": "r-6eKaHMibt0"
      },
      "source": [
        "# **Uji Kelayakan Ljung Box**"
      ]
    },
    {
      "cell_type": "markdown",
      "source": [
        "Uji Ljung-Box adalah uji statistik yang digunakan untuk mengetahui apakah residual (error) dari model bebas dari autokorelasi, yaitu apakah residual tidak memiliki pola berulang."
      ],
      "metadata": {
        "id": "xVPQvuJVXjfc"
      }
    },
    {
      "cell_type": "code",
      "execution_count": null,
      "metadata": {
        "id": "UsIQvBNLplyq",
        "colab": {
          "base_uri": "https://localhost:8080/"
        },
        "outputId": "eb6d7db6-409f-408b-925f-65057c30a02c"
      },
      "outputs": [
        {
          "output_type": "stream",
          "name": "stdout",
          "text": [
            "\n",
            "Ljung-Box Test Results:\n",
            "     lb_stat  lb_pvalue\n",
            "10  4.061042   0.944551\n"
          ]
        }
      ],
      "source": [
        "from statsmodels.stats.diagnostic import acorr_ljungbox\n",
        "\n",
        "ljung_box_results = acorr_ljungbox(fitted_model.resid, lags=[10], return_df=True)\n",
        "print(\"\\nLjung-Box Test Results:\")\n",
        "print(ljung_box_results)"
      ]
    },
    {
      "cell_type": "markdown",
      "metadata": {
        "id": "VFRgprfjeQal"
      },
      "source": [
        "lb_pvalue > 0.05 berarti Terima H0. artinya residual tidak memiliki autokorelasi signifikan (model cukup baik)"
      ]
    },
    {
      "cell_type": "markdown",
      "source": [
        "Berdasarkan hasil dari Ljung-Box Test, lb_pvalue > 0.05 yaitu 0.944551  > 0.05,  Ini berarti residual model bebas dari autokorelasi, sehingga model dianggap layak.\n"
      ],
      "metadata": {
        "id": "bmU1sRXQXmqM"
      }
    },
    {
      "cell_type": "markdown",
      "metadata": {
        "id": "sH38opxjigdj"
      },
      "source": [
        "# **Uji Kenormalan Sisaan**"
      ]
    },
    {
      "cell_type": "markdown",
      "source": [
        "Model ARIMA mengasumsikan bahwa sisaan terdistribusi secara normal, jika asumsi tidak terpenuhi maka hasil model tidak valid atau tidak dapat diandalkan.\n",
        "\n",
        "Jika p-value > 0.05 data dianggap berdistribusi normal dan model dapat diandalkan."
      ],
      "metadata": {
        "id": "JNAFmnvIsEO5"
      }
    },
    {
      "cell_type": "code",
      "execution_count": null,
      "metadata": {
        "id": "ATuLshrOpx1U",
        "colab": {
          "base_uri": "https://localhost:8080/"
        },
        "outputId": "1dbf4f77-bbd7-4bba-8467-0478d7c3b23b"
      },
      "outputs": [
        {
          "output_type": "stream",
          "name": "stdout",
          "text": [
            "\n",
            "Shapiro-Wilk Test for Normality of Residuals:\n",
            "Statistic: 0.9846118367940551, p-value: 0.008275235245186129\n"
          ]
        }
      ],
      "source": [
        "from scipy.stats import shapiro\n",
        "\n",
        "shapiro_test = shapiro(fitted_model.resid)\n",
        "print(\"\\nShapiro-Wilk Test for Normality of Residuals:\")\n",
        "print(f\"Statistic: {shapiro_test.statistic}, p-value: {shapiro_test.pvalue}\")"
      ]
    },
    {
      "cell_type": "code",
      "source": [
        "from scipy import stats\n",
        "\n",
        "sns.histplot(fitted_model.resid, kde=True)\n",
        "plt.title('Residuals Distribution')\n",
        "plt.show()"
      ],
      "metadata": {
        "id": "ptzGzwDUAyY3",
        "colab": {
          "base_uri": "https://localhost:8080/",
          "height": 452
        },
        "outputId": "d56fea0f-0a20-469d-c937-ad653c92b28c"
      },
      "execution_count": null,
      "outputs": [
        {
          "output_type": "display_data",
          "data": {
            "text/plain": [
              "<Figure size 640x480 with 1 Axes>"
            ],
            "image/png": "[encoded data removed]"
          },
          "metadata": {}
        }
      ]
    },
    {
      "cell_type": "markdown",
      "source": [
        "Berdasarkan hasil Uji Shapiro-Walk dan plot residual, p-value > 0.05 dan distribusi residual terdistribusi disekitar nilai 0. sehingga residual berdistribusi normal dan model dapat diandalkan."
      ],
      "metadata": {
        "id": "BM_qEVEisKTO"
      }
    },
    {
      "cell_type": "markdown",
      "metadata": {
        "id": "H-mx0C1GimgH"
      },
      "source": [
        "# **Forecasting**"
      ]
    },
    {
      "cell_type": "markdown",
      "source": [
        "Forecasting dilakukan pada model yang telah dilatih menggunakan ARIMA(4,1,4) untuk memprediksi 12 langkah kedepan. Data aktual yang digunakan adalah 12 langkah terakhir dari dataset.\n"
      ],
      "metadata": {
        "id": "r9qZHqstsOYd"
      }
    },
    {
      "cell_type": "code",
      "execution_count": null,
      "metadata": {
        "id": "ex2mIaoRvKis",
        "colab": {
          "base_uri": "https://localhost:8080/"
        },
        "outputId": "32f6b40f-4179-4d59-b87b-f1ceda12b1d8"
      },
      "outputs": [
        {
          "output_type": "stream",
          "name": "stdout",
          "text": [
            "\n",
            "Forecasted Values: 251   -0.037187\n",
            "252    0.094609\n",
            "253    0.014088\n",
            "254    0.056579\n",
            "255    0.052530\n",
            "256    0.091239\n",
            "257    0.041746\n",
            "258    0.043658\n",
            "259    0.052675\n",
            "260    0.082772\n",
            "261    0.056592\n",
            "262    0.041561\n",
            "Name: predicted_mean, dtype: float64\n"
          ]
        }
      ],
      "source": [
        "from sklearn.metrics import mean_squared_error\n",
        "forecast = fitted_model.forecast(steps=12)\n",
        "actual = df['Adj Close'][-12:].values\n",
        "\n",
        "print(f\"\\nForecasted Values: {forecast[:12]}\")"
      ]
    },
    {
      "cell_type": "code",
      "execution_count": null,
      "metadata": {
        "id": "t4ZU-pnWf_yT",
        "colab": {
          "base_uri": "https://localhost:8080/",
          "height": 564
        },
        "outputId": "e91f4ced-2683-4a39-827b-680f791aa106"
      },
      "outputs": [
        {
          "output_type": "display_data",
          "data": {
            "text/plain": [
              "<Figure size 1200x600 with 1 Axes>"
            ],
            "image/png": "[encoded data removed]"
          },
          "metadata": {}
        }
      ],
      "source": [
        "# Plot Forecast\n",
        "forecast_index = pd.date_range(\n",
        "    start=df.index[-1] + pd.Timedelta(days=1),\n",
        "    periods=12,\n",
        "    freq='B'  # Ubah sesuai dengan frekuensi dataset\n",
        ")\n",
        "\n",
        "plt.figure(figsize=(12, 6))\n",
        "plt.plot(df['Adj Close'], label='Actual Data')\n",
        "plt.plot(forecast_index, forecast[:12], label='Forecast', color='red')\n",
        "plt.title('Forecast vs Actual')\n",
        "plt.xlabel('Time')\n",
        "plt.ylabel('Adj Close')\n",
        "plt.legend()\n",
        "plt.grid()\n",
        "plt.show()"
      ]
    },
    {
      "cell_type": "code",
      "execution_count": null,
      "metadata": {
        "id": "JYCE9lLJqEiG",
        "colab": {
          "base_uri": "https://localhost:8080/",
          "height": 564
        },
        "outputId": "1900d308-f2f9-40e9-c1f0-5d9b3aca8908"
      },
      "outputs": [
        {
          "output_type": "display_data",
          "data": {
            "text/plain": [
              "<Figure size 1000x600 with 1 Axes>"
            ],
            "image/png": "[encoded data removed]"
          },
          "metadata": {}
        }
      ],
      "source": [
        "# Plotting actual vs forecasted values\n",
        "plt.figure(figsize=(10, 6))\n",
        "plt.plot(range(len(df['Adj Close']) - 12, len(df['Adj Close'])), actual, label='Actual', marker='o')\n",
        "plt.plot(range(len(df['Adj Close']), len(df['Adj Close']) + 12), forecast, label='Forecast', marker='o', linestyle='--')\n",
        "plt.axvline(len(df['Adj Close']) - 1, color='gray', linestyle='--', label='Forecast Start')\n",
        "plt.title('Actual vs Forecasted Values')\n",
        "plt.xlabel('Time')\n",
        "plt.ylabel('Adj Close')\n",
        "plt.legend()\n",
        "plt.grid()\n",
        "plt.show()"
      ]
    },
    {
      "cell_type": "markdown",
      "source": [
        "Dari hasil Plot menunjukan bahwa hasil forecasting mengikuti tren dari data aktual, meskipun terjadi deviasi yang signifikan antara nilai prediksi dan nilai aktual."
      ],
      "metadata": {
        "id": "vkg9xQlwsTAt"
      }
    },
    {
      "cell_type": "markdown",
      "source": [
        "# **RMSE**"
      ],
      "metadata": {
        "id": "8VAM2KJzopW4"
      }
    },
    {
      "cell_type": "code",
      "source": [
        "rmse = np.sqrt(mean_squared_error(actual, forecast[:12]))\n",
        "print(f\"RMSE of the Forecast: {rmse}\")"
      ],
      "metadata": {
        "colab": {
          "base_uri": "https://localhost:8080/"
        },
        "id": "gRw7IKhcopzA",
        "outputId": "f501f64a-a430-44e6-9110-e4b97809547d"
      },
      "execution_count": null,
      "outputs": [
        {
          "output_type": "stream",
          "name": "stdout",
          "text": [
            "RMSE of the Forecast: 0.041805082647783515\n"
          ]
        }
      ]
    },
    {
      "cell_type": "markdown",
      "source": [
        "Nilai RMSE sebesar 0.0458 menunjukan bahwa rata-rata kesalahan prediksi adalah 0.0458 satuan (dalam skala data). Nilai ini cukup kecil, menandakan model memiliki akurasi yang baik.\n"
      ],
      "metadata": {
        "id": "l-L5d46as7DJ"
      }
    }
  ],
  "metadata": {
    "colab": {
      "provenance": []
    },
    "kernelspec": {
      "display_name": "Python 3",
      "name": "python3"
    },
    "language_info": {
      "name": "python"
    }
  },
  "nbformat": 4,
  "nbformat_minor": 0
}